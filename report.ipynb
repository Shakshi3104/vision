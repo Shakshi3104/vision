{
 "cells": [
  {
   "cell_type": "markdown",
   "metadata": {
    "collapsed": true,
    "pycharm": {
     "name": "#%% md\n"
    }
   },
   "source": [
    "# 3D Information Processing\n",
    "Obtain a 3D shape from images taken by multiple cameras"
   ]
  },
  {
   "cell_type": "code",
   "execution_count": 1,
   "metadata": {
    "pycharm": {
     "name": "#%%\n"
    }
   },
   "outputs": [],
   "source": [
    "%load_ext autoreload\n",
    "%autoreload 2"
   ]
  },
  {
   "cell_type": "code",
   "execution_count": 2,
   "metadata": {
    "pycharm": {
     "name": "#%%\n"
    }
   },
   "outputs": [],
   "source": [
    "import pandas as pd\n",
    "import numpy as np\n",
    "from camera import Camera\n",
    "from stereo import Stereo\n",
    "from visualize import plot_calibration_points"
   ]
  },
  {
   "cell_type": "code",
   "execution_count": 3,
   "metadata": {
    "pycharm": {
     "name": "#%%\n"
    }
   },
   "outputs": [],
   "source": [
    "# 指数表記にしない\n",
    "np.set_printoptions(suppress=True)"
   ]
  },
  {
   "cell_type": "markdown",
   "metadata": {
    "pycharm": {
     "name": "#%% md\n"
    }
   },
   "source": [
    "Load calibration points for each images"
   ]
  },
  {
   "cell_type": "code",
   "execution_count": 4,
   "metadata": {
    "pycharm": {
     "name": "#%%\n"
    }
   },
   "outputs": [],
   "source": [
    "points_1 = pd.read_csv(\"points/points_1.csv\")\n",
    "points_2 = pd.read_csv(\"points/points_2.csv\")\n",
    "points_3 = pd.read_csv(\"points/points_3.csv\")"
   ]
  },
  {
   "cell_type": "markdown",
   "metadata": {
    "pycharm": {
     "name": "#%% md\n"
    }
   },
   "source": [
    "Plot calibration points"
   ]
  },
  {
   "cell_type": "code",
   "execution_count": 5,
   "metadata": {
    "pycharm": {
     "name": "#%%\n"
    }
   },
   "outputs": [],
   "source": [
    "plot_calibration_points(\"data/1.JPG\", \"data/1_plotted.JPG\", points_1)\n",
    "plot_calibration_points(\"data/2.JPG\", \"data/2_plotted.JPG\", points_2)\n",
    "plot_calibration_points(\"data/3.JPG\", \"data/3_plotted.JPG\", points_3)"
   ]
  },
  {
   "cell_type": "markdown",
   "metadata": {
    "pycharm": {
     "name": "#%% md\n"
    }
   },
   "source": [
    "### 1. Obtain perspective projection matrix\n",
    "\n",
    "Calibrate cameras from calibration points"
   ]
  },
  {
   "cell_type": "code",
   "execution_count": 6,
   "metadata": {
    "pycharm": {
     "name": "#%%\n"
    }
   },
   "outputs": [],
   "source": [
    "c1 = Camera(points_1)\n",
    "c2 = Camera(points_2)\n",
    "c3 = Camera(points_3)"
   ]
  },
  {
   "cell_type": "code",
   "execution_count": 7,
   "metadata": {
    "pycharm": {
     "name": "#%%\n"
    }
   },
   "outputs": [
    {
     "name": "stdout",
     "output_type": "stream",
     "text": [
      "Calibrate camera...\n",
      "Perspective Projection Matrix\n",
      "[[ -40.54122968   40.37259325  -22.09534006 1571.80271692]\n",
      " [  14.67419715    5.29694456  -55.32118497 1118.37794573]\n",
      " [  -0.0117374    -0.0041147    -0.01115845    1.        ]]\n",
      "Calibrate camera...\n",
      "Perspective Projection Matrix\n",
      "[[ -47.5848755    31.63423375  -18.0047358  1582.83552373]\n",
      " [   6.04330571    2.71247349  -55.79891734 1083.35787306]\n",
      " [  -0.01209186   -0.00646705   -0.00886434    1.        ]]\n",
      "Calibrate camera...\n",
      "Perspective Projection Matrix\n",
      "[[ -46.84682189   27.79618015  -23.94934871 1673.69448202]\n",
      " [  16.76095364   12.07519625  -51.80189787  889.83455189]\n",
      " [  -0.00888891   -0.00640756   -0.01209724    1.        ]]\n"
     ]
    }
   ],
   "source": [
    "c1.calibrate()\n",
    "c2.calibrate()\n",
    "c3.calibrate()"
   ]
  },
  {
   "cell_type": "markdown",
   "metadata": {
    "pycharm": {
     "name": "#%% md\n"
    }
   },
   "source": [
    "Validate perspective projection matrix by other points"
   ]
  },
  {
   "cell_type": "code",
   "execution_count": 8,
   "metadata": {
    "pycharm": {
     "name": "#%%\n"
    }
   },
   "outputs": [],
   "source": [
    "points_valid = pd.read_csv(\"points/points_1_valid.csv\")\n",
    "pred_u = []\n",
    "pred_v = []\n",
    "for row in points_valid.itertuples():\n",
    "    u_, v_ = c1.perspective_project(row[3], row[4], row[5])\n",
    "    pred_u += [u_]\n",
    "    pred_v += [v_]\n",
    "\n",
    "predict = pd.DataFrame({\"u\": pred_u, \"v\": pred_v,\n",
    "                        \"x\": points_valid[\"x\"],\n",
    "                        \"y\": points_valid[\"y\"],\n",
    "                        \"z\": points_valid[\"z\"]})\n",
    "\n",
    "predict[\"u\"] = predict[\"u\"].astype(int)\n",
    "predict[\"v\"] = predict[\"v\"].astype(int)\n",
    "\n",
    "plot_calibration_points(\"data/1.JPG\", \"data/1_pred.JPG\", points_valid)\n",
    "plot_calibration_points(\"data/1_pred.JPG\", \"data/1_pred.JPG\",\n",
    "                        predict, color=(0, 0, 230))"
   ]
  },
  {
   "cell_type": "markdown",
   "metadata": {
    "pycharm": {
     "name": "#%% md\n"
    }
   },
   "source": [
    "Re-project calibration points"
   ]
  },
  {
   "cell_type": "code",
   "execution_count": 9,
   "metadata": {
    "pycharm": {
     "name": "#%%\n"
    }
   },
   "outputs": [
    {
     "data": {
      "text/plain": "6.332554156756919"
     },
     "execution_count": 9,
     "metadata": {},
     "output_type": "execute_result"
    }
   ],
   "source": [
    "c1.re_project()\n",
    "\n",
    "plot_calibration_points(\"data/1.JPG\", \"data/1_reproject.JPG\",\n",
    "                        c1.points_for_calibration)\n",
    "plot_calibration_points(\"data/1_reproject.JPG\", \"data/1_reproject.JPG\",\n",
    "                        c1.points_of_reprojection,\n",
    "                        color=(0, 0, 230))\n",
    "reprojection_error = c1.re_projection_error()\n",
    "reprojection_error"
   ]
  },
  {
   "cell_type": "code",
   "execution_count": 10,
   "metadata": {
    "pycharm": {
     "name": "#%%\n"
    }
   },
   "outputs": [
    {
     "data": {
      "text/plain": "5.146138217502861"
     },
     "execution_count": 10,
     "metadata": {},
     "output_type": "execute_result"
    }
   ],
   "source": [
    "c2.re_project()\n",
    "\n",
    "plot_calibration_points(\"data/2.JPG\", \"data/2_reproject.JPG\",\n",
    "                        c2.points_for_calibration)\n",
    "plot_calibration_points(\"data/2_reproject.JPG\", \"data/2_reproject.JPG\",\n",
    "                        c2.points_of_reprojection,\n",
    "                        color=(0, 0, 230))\n",
    "\n",
    "reprojection_error = c2.re_projection_error()\n",
    "reprojection_error"
   ]
  },
  {
   "cell_type": "code",
   "execution_count": 11,
   "metadata": {
    "pycharm": {
     "name": "#%%\n"
    }
   },
   "outputs": [
    {
     "data": {
      "text/plain": "5.419570702840029"
     },
     "execution_count": 11,
     "metadata": {},
     "output_type": "execute_result"
    }
   ],
   "source": [
    "c3.re_project()\n",
    "\n",
    "plot_calibration_points(\"data/3.JPG\", \"data/3_reproject.JPG\",\n",
    "                        c3.points_for_calibration)\n",
    "plot_calibration_points(\"data/3_reproject.JPG\", \"data/3_reproject.JPG\",\n",
    "                        c3.points_of_reprojection,\n",
    "                        color=(0, 0, 230))\n",
    "\n",
    "reprojection_error = c3.re_projection_error()\n",
    "reprojection_error"
   ]
  },
  {
   "cell_type": "markdown",
   "metadata": {},
   "source": [
    "### 2. Obtain 3D points from 2 images\n",
    "\n",
    "Obtain 3D points from 2 images"
   ]
  },
  {
   "cell_type": "code",
   "execution_count": 12,
   "metadata": {
    "pycharm": {
     "name": "#%%\n"
    }
   },
   "outputs": [
    {
     "name": "stdout",
     "output_type": "stream",
     "text": [
      "(X, Y, Z) =  [25.46853018 16.45891675  0.27088423]\n",
      "(X, Y, Z) =  [24.74322514 17.17460602  0.21459361]\n",
      "(X, Y, Z) =  [21.9623529  20.02167334  0.32099857]\n",
      "(X, Y, Z) =  [19.91808882 22.15987022  0.38459758]\n",
      "(X, Y, Z) =  [16.4237593  25.69960559  0.35387484]\n",
      "(X, Y, Z) =  [5.25763004 7.23655657 9.16204878]\n",
      "(X, Y, Z) =  [10.59512338  5.50404891  9.27484466]\n",
      "(X, Y, Z) =  [9.37281706 8.25184944 9.13307199]\n",
      "(X, Y, Z) =  [ 8.15256931 11.08960475  9.13429177]\n",
      "(X, Y, Z) =  [4.45047282 9.9362386  9.156412  ]\n",
      "(X, Y, Z) =  [11.59571684  6.51458292  2.8439244 ]\n",
      "(X, Y, Z) =  [10.64963668 10.55205759  6.59275462]\n",
      "(X, Y, Z) =  [11.65461478  6.63672553  6.33230488]\n",
      "(X, Y, Z) =  [ 9.52752728 11.54604342  8.79831639]\n",
      "(X, Y, Z) =  [ 9.39823315 11.52663161  2.80247845]\n",
      "(X, Y, Z) =  [13.09258375 17.84186136  6.14589095]\n",
      "(X, Y, Z) =  [15.30964117 17.3783268   1.98313607]\n",
      "(X, Y, Z) =  [13.30651068 21.42861199  2.55998543]\n",
      "(X, Y, Z) =  [18.57716264 12.74336519  6.16123568]\n",
      "(X, Y, Z) =  [ 8.38610995 27.03306098  9.00976452]\n"
     ]
    }
   ],
   "source": [
    "points12 = pd.read_csv(\"points/points_1_2.csv\")\n",
    "s = Stereo(c1, c2, points12)\n",
    "s.obtain_objects_points_by_stereo()"
   ]
  },
  {
   "cell_type": "code",
   "execution_count": 13,
   "metadata": {
    "pycharm": {
     "name": "#%%\n"
    }
   },
   "outputs": [
    {
     "data": {
      "text/plain": "            X          Y         Z\n0   25.468530  16.458917  0.270884\n1   24.743225  17.174606  0.214594\n2   21.962353  20.021673  0.320999\n3   19.918089  22.159870  0.384598\n4   16.423759  25.699606  0.353875\n5    5.257630   7.236557  9.162049\n6   10.595123   5.504049  9.274845\n7    9.372817   8.251849  9.133072\n8    8.152569  11.089605  9.134292\n9    4.450473   9.936239  9.156412\n10  11.595717   6.514583  2.843924\n11  10.649637  10.552058  6.592755\n12  11.654615   6.636726  6.332305\n13   9.527527  11.546043  8.798316\n14   9.398233  11.526632  2.802478\n15  13.092584  17.841861  6.145891\n16  15.309641  17.378327  1.983136\n17  13.306511  21.428612  2.559985\n18  18.577163  12.743365  6.161236\n19   8.386110  27.033061  9.009765",
      "text/html": "<div>\n<style scoped>\n    .dataframe tbody tr th:only-of-type {\n        vertical-align: middle;\n    }\n\n    .dataframe tbody tr th {\n        vertical-align: top;\n    }\n\n    .dataframe thead th {\n        text-align: right;\n    }\n</style>\n<table border=\"1\" class=\"dataframe\">\n  <thead>\n    <tr style=\"text-align: right;\">\n      <th></th>\n      <th>X</th>\n      <th>Y</th>\n      <th>Z</th>\n    </tr>\n  </thead>\n  <tbody>\n    <tr>\n      <td>0</td>\n      <td>25.468530</td>\n      <td>16.458917</td>\n      <td>0.270884</td>\n    </tr>\n    <tr>\n      <td>1</td>\n      <td>24.743225</td>\n      <td>17.174606</td>\n      <td>0.214594</td>\n    </tr>\n    <tr>\n      <td>2</td>\n      <td>21.962353</td>\n      <td>20.021673</td>\n      <td>0.320999</td>\n    </tr>\n    <tr>\n      <td>3</td>\n      <td>19.918089</td>\n      <td>22.159870</td>\n      <td>0.384598</td>\n    </tr>\n    <tr>\n      <td>4</td>\n      <td>16.423759</td>\n      <td>25.699606</td>\n      <td>0.353875</td>\n    </tr>\n    <tr>\n      <td>5</td>\n      <td>5.257630</td>\n      <td>7.236557</td>\n      <td>9.162049</td>\n    </tr>\n    <tr>\n      <td>6</td>\n      <td>10.595123</td>\n      <td>5.504049</td>\n      <td>9.274845</td>\n    </tr>\n    <tr>\n      <td>7</td>\n      <td>9.372817</td>\n      <td>8.251849</td>\n      <td>9.133072</td>\n    </tr>\n    <tr>\n      <td>8</td>\n      <td>8.152569</td>\n      <td>11.089605</td>\n      <td>9.134292</td>\n    </tr>\n    <tr>\n      <td>9</td>\n      <td>4.450473</td>\n      <td>9.936239</td>\n      <td>9.156412</td>\n    </tr>\n    <tr>\n      <td>10</td>\n      <td>11.595717</td>\n      <td>6.514583</td>\n      <td>2.843924</td>\n    </tr>\n    <tr>\n      <td>11</td>\n      <td>10.649637</td>\n      <td>10.552058</td>\n      <td>6.592755</td>\n    </tr>\n    <tr>\n      <td>12</td>\n      <td>11.654615</td>\n      <td>6.636726</td>\n      <td>6.332305</td>\n    </tr>\n    <tr>\n      <td>13</td>\n      <td>9.527527</td>\n      <td>11.546043</td>\n      <td>8.798316</td>\n    </tr>\n    <tr>\n      <td>14</td>\n      <td>9.398233</td>\n      <td>11.526632</td>\n      <td>2.802478</td>\n    </tr>\n    <tr>\n      <td>15</td>\n      <td>13.092584</td>\n      <td>17.841861</td>\n      <td>6.145891</td>\n    </tr>\n    <tr>\n      <td>16</td>\n      <td>15.309641</td>\n      <td>17.378327</td>\n      <td>1.983136</td>\n    </tr>\n    <tr>\n      <td>17</td>\n      <td>13.306511</td>\n      <td>21.428612</td>\n      <td>2.559985</td>\n    </tr>\n    <tr>\n      <td>18</td>\n      <td>18.577163</td>\n      <td>12.743365</td>\n      <td>6.161236</td>\n    </tr>\n    <tr>\n      <td>19</td>\n      <td>8.386110</td>\n      <td>27.033061</td>\n      <td>9.009765</td>\n    </tr>\n  </tbody>\n</table>\n</div>"
     },
     "execution_count": 13,
     "metadata": {},
     "output_type": "execute_result"
    }
   ],
   "source": [
    "output_stereo = pd.concat([points12, s.points_of_objects], axis=1)\n",
    "output_stereo.to_csv(\"points/output_points_1_2.csv\", float_format=\"%.6f\")\n",
    "\n",
    "s.points_of_objects"
   ]
  },
  {
   "cell_type": "code",
   "execution_count": 14,
   "metadata": {
    "pycharm": {
     "name": "#%%\n"
    }
   },
   "outputs": [],
   "source": [
    "points_1_ = pd.DataFrame({\"u\": points12[\"u1\"], \"v\": points12[\"v1\"],\n",
    "                          \"x\": s.points_of_objects[\"X\"],\n",
    "                          \"y\": s.points_of_objects[\"Y\"],\n",
    "                          \"z\": s.points_of_objects[\"Z\"]})\n",
    "points_2_ = pd.DataFrame({\"u\": points12[\"u2\"], \"v\": points12[\"v2\"],\n",
    "                          \"x\": s.points_of_objects[\"X\"],\n",
    "                          \"y\": s.points_of_objects[\"Y\"],\n",
    "                          \"z\": s.points_of_objects[\"Z\"]})\n",
    "\n",
    "plot_calibration_points(\"data/1.JPG\", \"data/1_stereo.JPG\", points_1_)\n",
    "plot_calibration_points(\"data/2.JPG\", \"data/2_stereo.JPG\", points_2_)"
   ]
  },
  {
   "cell_type": "markdown",
   "metadata": {},
   "source": [
    "Re-project from obatined 3D points"
   ]
  },
  {
   "cell_type": "code",
   "execution_count": 15,
   "metadata": {
    "pycharm": {
     "name": "#%%\n"
    }
   },
   "outputs": [
    {
     "data": {
      "text/plain": "       u     v          x          y         z\n0   1900  2481  25.468530  16.458917  0.270884\n1   1975  2451  24.743225  17.174606  0.214594\n2   2259  2329  21.962353  20.021673  0.320999\n3   2460  2246  19.918089  22.159870  0.384598\n4   2775  2115  16.423759  25.699606  0.353875\n5   1796   901   5.257630   7.236557  9.162049\n6   1547  1053  10.595123   5.504049  9.274845\n7   1754  1053   9.372817   8.251849  9.133072\n8   1965  1045   8.152569  11.089605  9.134292\n9   1976   906   4.450473   9.936239  9.156412\n10  1616  1447  11.595717   6.514583  2.843924\n11  1873  1274  10.649637  10.552058  6.592755\n12  1603  1273  11.654615   6.636726  6.332305\n13  1962  1121   9.527527  11.546043  8.798316\n14  1965  1433   9.398233  11.526632  2.802478\n15  2307  1512  13.092584  17.841861  6.145891\n16  2214  1823  15.309641  17.378327  1.983136\n17  2531  1768  13.306511  21.428612  2.559985\n18  1811  1691  18.577163  12.743365  6.161236\n19  3079  1284   8.386110  27.033061  9.009765",
      "text/html": "<div>\n<style scoped>\n    .dataframe tbody tr th:only-of-type {\n        vertical-align: middle;\n    }\n\n    .dataframe tbody tr th {\n        vertical-align: top;\n    }\n\n    .dataframe thead th {\n        text-align: right;\n    }\n</style>\n<table border=\"1\" class=\"dataframe\">\n  <thead>\n    <tr style=\"text-align: right;\">\n      <th></th>\n      <th>u</th>\n      <th>v</th>\n      <th>x</th>\n      <th>y</th>\n      <th>z</th>\n    </tr>\n  </thead>\n  <tbody>\n    <tr>\n      <td>0</td>\n      <td>1900</td>\n      <td>2481</td>\n      <td>25.468530</td>\n      <td>16.458917</td>\n      <td>0.270884</td>\n    </tr>\n    <tr>\n      <td>1</td>\n      <td>1975</td>\n      <td>2451</td>\n      <td>24.743225</td>\n      <td>17.174606</td>\n      <td>0.214594</td>\n    </tr>\n    <tr>\n      <td>2</td>\n      <td>2259</td>\n      <td>2329</td>\n      <td>21.962353</td>\n      <td>20.021673</td>\n      <td>0.320999</td>\n    </tr>\n    <tr>\n      <td>3</td>\n      <td>2460</td>\n      <td>2246</td>\n      <td>19.918089</td>\n      <td>22.159870</td>\n      <td>0.384598</td>\n    </tr>\n    <tr>\n      <td>4</td>\n      <td>2775</td>\n      <td>2115</td>\n      <td>16.423759</td>\n      <td>25.699606</td>\n      <td>0.353875</td>\n    </tr>\n    <tr>\n      <td>5</td>\n      <td>1796</td>\n      <td>901</td>\n      <td>5.257630</td>\n      <td>7.236557</td>\n      <td>9.162049</td>\n    </tr>\n    <tr>\n      <td>6</td>\n      <td>1547</td>\n      <td>1053</td>\n      <td>10.595123</td>\n      <td>5.504049</td>\n      <td>9.274845</td>\n    </tr>\n    <tr>\n      <td>7</td>\n      <td>1754</td>\n      <td>1053</td>\n      <td>9.372817</td>\n      <td>8.251849</td>\n      <td>9.133072</td>\n    </tr>\n    <tr>\n      <td>8</td>\n      <td>1965</td>\n      <td>1045</td>\n      <td>8.152569</td>\n      <td>11.089605</td>\n      <td>9.134292</td>\n    </tr>\n    <tr>\n      <td>9</td>\n      <td>1976</td>\n      <td>906</td>\n      <td>4.450473</td>\n      <td>9.936239</td>\n      <td>9.156412</td>\n    </tr>\n    <tr>\n      <td>10</td>\n      <td>1616</td>\n      <td>1447</td>\n      <td>11.595717</td>\n      <td>6.514583</td>\n      <td>2.843924</td>\n    </tr>\n    <tr>\n      <td>11</td>\n      <td>1873</td>\n      <td>1274</td>\n      <td>10.649637</td>\n      <td>10.552058</td>\n      <td>6.592755</td>\n    </tr>\n    <tr>\n      <td>12</td>\n      <td>1603</td>\n      <td>1273</td>\n      <td>11.654615</td>\n      <td>6.636726</td>\n      <td>6.332305</td>\n    </tr>\n    <tr>\n      <td>13</td>\n      <td>1962</td>\n      <td>1121</td>\n      <td>9.527527</td>\n      <td>11.546043</td>\n      <td>8.798316</td>\n    </tr>\n    <tr>\n      <td>14</td>\n      <td>1965</td>\n      <td>1433</td>\n      <td>9.398233</td>\n      <td>11.526632</td>\n      <td>2.802478</td>\n    </tr>\n    <tr>\n      <td>15</td>\n      <td>2307</td>\n      <td>1512</td>\n      <td>13.092584</td>\n      <td>17.841861</td>\n      <td>6.145891</td>\n    </tr>\n    <tr>\n      <td>16</td>\n      <td>2214</td>\n      <td>1823</td>\n      <td>15.309641</td>\n      <td>17.378327</td>\n      <td>1.983136</td>\n    </tr>\n    <tr>\n      <td>17</td>\n      <td>2531</td>\n      <td>1768</td>\n      <td>13.306511</td>\n      <td>21.428612</td>\n      <td>2.559985</td>\n    </tr>\n    <tr>\n      <td>18</td>\n      <td>1811</td>\n      <td>1691</td>\n      <td>18.577163</td>\n      <td>12.743365</td>\n      <td>6.161236</td>\n    </tr>\n    <tr>\n      <td>19</td>\n      <td>3079</td>\n      <td>1284</td>\n      <td>8.386110</td>\n      <td>27.033061</td>\n      <td>9.009765</td>\n    </tr>\n  </tbody>\n</table>\n</div>"
     },
     "execution_count": 15,
     "metadata": {},
     "output_type": "execute_result"
    }
   ],
   "source": [
    "re_points_1_ = c1.perspective_project_points(points_1_)\n",
    "re_points_2_ = c2.perspective_project_points(points_2_)\n",
    "re_points_1_"
   ]
  },
  {
   "cell_type": "code",
   "execution_count": 16,
   "metadata": {
    "pycharm": {
     "name": "#%%\n"
    }
   },
   "outputs": [],
   "source": [
    "plot_calibration_points(\"data/1.JPG\", \"data/1_stereo_reproject.JPG\", points_1_)\n",
    "plot_calibration_points(\"data/1_stereo_reproject.JPG\", \"data/1_stereo_reproject.JPG\",\n",
    "                        re_points_1_, color=(0, 0, 230))\n",
    "\n",
    "plot_calibration_points(\"data/2.JPG\", \"data/2_stereo_reproject.JPG\", points_2_)\n",
    "plot_calibration_points(\"data/2_stereo_reproject.JPG\", \"data/2_stereo_reproject.JPG\",\n",
    "                        re_points_2_, color=(0, 0, 230))"
   ]
  },
  {
   "cell_type": "markdown",
   "metadata": {
    "pycharm": {
     "name": "#%% md\n"
    }
   },
   "source": [
    "### 3. Points on the carpenter's square"
   ]
  },
  {
   "cell_type": "code",
   "execution_count": 17,
   "metadata": {
    "pycharm": {
     "name": "#%%\n"
    }
   },
   "outputs": [],
   "source": [
    "# 3次元中の距離を計算\n",
    "def get_distance_on_object_points(X1, X2):\n",
    "    x1, y1, z1 = X1\n",
    "    x2, y2, z2 = X2\n",
    "\n",
    "    d = np.sqrt((x2 - x1) ** 2 + (y2 - y1) ** 2 + (z2 - z1) ** 2)\n",
    "    return d"
   ]
  },
  {
   "cell_type": "code",
   "execution_count": 18,
   "metadata": {
    "pycharm": {
     "name": "#%%\n"
    }
   },
   "outputs": [
    {
     "data": {
      "text/plain": "           X          Y         Z\n0  25.468530  16.458917  0.270884\n1  24.743225  17.174606  0.214594\n2  21.962353  20.021673  0.320999\n3  19.918089  22.159870  0.384598\n4  16.423759  25.699606  0.353875",
      "text/html": "<div>\n<style scoped>\n    .dataframe tbody tr th:only-of-type {\n        vertical-align: middle;\n    }\n\n    .dataframe tbody tr th {\n        vertical-align: top;\n    }\n\n    .dataframe thead th {\n        text-align: right;\n    }\n</style>\n<table border=\"1\" class=\"dataframe\">\n  <thead>\n    <tr style=\"text-align: right;\">\n      <th></th>\n      <th>X</th>\n      <th>Y</th>\n      <th>Z</th>\n    </tr>\n  </thead>\n  <tbody>\n    <tr>\n      <td>0</td>\n      <td>25.468530</td>\n      <td>16.458917</td>\n      <td>0.270884</td>\n    </tr>\n    <tr>\n      <td>1</td>\n      <td>24.743225</td>\n      <td>17.174606</td>\n      <td>0.214594</td>\n    </tr>\n    <tr>\n      <td>2</td>\n      <td>21.962353</td>\n      <td>20.021673</td>\n      <td>0.320999</td>\n    </tr>\n    <tr>\n      <td>3</td>\n      <td>19.918089</td>\n      <td>22.159870</td>\n      <td>0.384598</td>\n    </tr>\n    <tr>\n      <td>4</td>\n      <td>16.423759</td>\n      <td>25.699606</td>\n      <td>0.353875</td>\n    </tr>\n  </tbody>\n</table>\n</div>"
     },
     "execution_count": 18,
     "metadata": {},
     "output_type": "execute_result"
    }
   ],
   "source": [
    "# 差金上の点は0-4まで\n",
    "points_on_carpenter = s.points_of_objects.iloc[:5, :]\n",
    "points_on_carpenter"
   ]
  },
  {
   "cell_type": "code",
   "execution_count": 19,
   "metadata": {
    "pycharm": {
     "name": "#%%\n"
    }
   },
   "outputs": [
    {
     "data": {
      "text/plain": "[1.0205131877439537, 3.9812516550414876, 2.958875862963973, 4.974033488485085]"
     },
     "execution_count": 19,
     "metadata": {},
     "output_type": "execute_result"
    }
   ],
   "source": [
    "distance_on_carpenter = []\n",
    "\n",
    "for i in range(len(points_on_carpenter) - 1):\n",
    "    x1, y1, z1 = points_on_carpenter.iat[i, 0], points_on_carpenter.iat[i, 1], points_on_carpenter.iat[i, 2]\n",
    "    x2, y2, z2 = points_on_carpenter.iat[i + 1, 0], points_on_carpenter.iat[i + 1, 1], points_on_carpenter.iat[i + 1, 2]\n",
    "\n",
    "    d = get_distance_on_object_points((x1, y1, z1), (x2, y2, z2))\n",
    "    distance_on_carpenter += [d]\n",
    "\n",
    "distance_on_carpenter"
   ]
  },
  {
   "cell_type": "markdown",
   "metadata": {
    "pycharm": {
     "name": "#%%　md\n"
    }
   },
   "source": [
    "#### Line in Space\n",
    "\n",
    "##### 1. Assuming z=0, find y=ax+b by the least squares method"
   ]
  },
  {
   "cell_type": "code",
   "execution_count": 20,
   "metadata": {
    "pycharm": {
     "name": "#%%\n"
    }
   },
   "outputs": [],
   "source": [
    "def calc_x_y_line_by_least_squares(points: pd.DataFrame):\n",
    "    x_sq = [x ** 2 for x in points[\"X\"]]\n",
    "    x_y = [x * y for x, y in zip(points[\"X\"], points[\"Y\"])]\n",
    "\n",
    "    array = [\n",
    "        [sum(x_sq), sum(points[\"X\"])],\n",
    "        [sum(points[\"X\"]), 1 * len(points)]\n",
    "    ]\n",
    "\n",
    "    vector = [\n",
    "        sum(x_y),\n",
    "        sum(points[\"Y\"])\n",
    "    ]\n",
    "\n",
    "    array = np.array(array)\n",
    "    vector = np.array(vector)\n",
    "\n",
    "    x_ = np.linalg.solve(array, vector)\n",
    "    a = x_[0]\n",
    "    b = x_[1]\n",
    "\n",
    "    return a, b"
   ]
  },
  {
   "cell_type": "code",
   "execution_count": 21,
   "metadata": {
    "pycharm": {
     "name": "#%%\n"
    }
   },
   "outputs": [],
   "source": [
    "a, b = calc_x_y_line_by_least_squares(points_on_carpenter)"
   ]
  },
  {
   "cell_type": "code",
   "execution_count": 22,
   "metadata": {
    "pycharm": {
     "name": "#%%\n"
    }
   },
   "outputs": [
    {
     "data": {
      "text/plain": "[0.00028853920314414125,\n 0.00034931253276076335,\n 0.0003723134313846968,\n 0.0006749264699789848,\n 0.00024183970897766595]"
     },
     "execution_count": 22,
     "metadata": {},
     "output_type": "execute_result"
    }
   ],
   "source": [
    "distance_to_line = []\n",
    "\n",
    "for row in points_on_carpenter.itertuples():\n",
    "    x, y = row[1], row[2]\n",
    "    d = np.abs(a * x - y + b) / np.sqrt(a ** 2 + b ** 2)\n",
    "    distance_to_line += [d]\n",
    "\n",
    "distance_to_line"
   ]
  },
  {
   "cell_type": "markdown",
   "metadata": {
    "pycharm": {
     "name": "#%% md\n"
    }
   },
   "source": [
    "##### 2. Line connecting point 1 and point 5"
   ]
  },
  {
   "cell_type": "code",
   "execution_count": 23,
   "metadata": {
    "pycharm": {
     "name": "#%%\n"
    }
   },
   "outputs": [
    {
     "data": {
      "text/plain": "[0.0, 0.06527810583599233, 0.022553917016332272, 0.06612965283865363, 0.0]"
     },
     "execution_count": 23,
     "metadata": {},
     "output_type": "execute_result"
    }
   ],
   "source": [
    "distance_to_line = []\n",
    "\n",
    "vector_a = points_on_carpenter.iloc[0, :3] # 直線上の点\n",
    "vector_a = np.array(vector_a)\n",
    "vector_l = points_on_carpenter.iloc[4, :3]\n",
    "vector_l = np.array(vector_l)\n",
    "vector_u = vector_l - vector_a # 方向ベクトル\n",
    "\n",
    "for row in points_on_carpenter.itertuples():\n",
    "    vector_p = [row[1], row[2], row[3]]\n",
    "    vector_p = np.array(vector_p)\n",
    "    vector_ap = vector_p - vector_a\n",
    "    d = np.linalg.norm(np.cross(vector_ap, vector_u)) / np.linalg.norm(vector_u)\n",
    "    distance_to_line += [d]\n",
    "\n",
    "distance_to_line"
   ]
  },
  {
   "cell_type": "markdown",
   "metadata": {
    "pycharm": {
     "name": "#%% md\n"
    }
   },
   "source": [
    "##### 3. Find two planes by least squares method, and find the intersection line"
   ]
  },
  {
   "cell_type": "code",
   "execution_count": 24,
   "metadata": {
    "pycharm": {
     "name": "#%%\n"
    }
   },
   "outputs": [],
   "source": [
    "def calc_line_by_2_plane_by_least_square(points: pd.DataFrame):\n",
    "    z_sq = [z ** 2 for z in points[\"Z\"]]\n",
    "    x_z = [x * z for x, z in zip(points[\"X\"], points[\"Z\"])]\n",
    "    y_z = [y * z for y, z in zip(points[\"Y\"], points[\"Z\"])]\n",
    "\n",
    "    # x = az + bを求める\n",
    "    array_x = [\n",
    "        [sum(z_sq), sum(points[\"Z\"])],\n",
    "        [sum(points[\"Z\"]), 1 * len(points)]\n",
    "    ]\n",
    "\n",
    "    vector_x = [\n",
    "        sum(x_z),\n",
    "        sum(points[\"X\"])\n",
    "    ]\n",
    "\n",
    "    array_x = np.array(array_x)\n",
    "    vector_x = np.array(vector_x)\n",
    "\n",
    "    x_ = np.linalg.solve(array_x, vector_x)\n",
    "    a, b = x_[0], x_[1]\n",
    "\n",
    "    # y = cz + dを求める\n",
    "    array_y = [\n",
    "        [sum(z_sq), sum(points[\"Z\"])],\n",
    "        [sum(points[\"Z\"]), 1 + len(points)]\n",
    "    ]\n",
    "\n",
    "    vector_y = [\n",
    "        sum(y_z),\n",
    "        sum(points[\"Y\"])\n",
    "    ]\n",
    "\n",
    "    array_y = np.array(array_y)\n",
    "    vector_y = np.array(vector_y)\n",
    "\n",
    "    y_ = np.linalg.solve(array_y, vector_y)\n",
    "    c, d = y_[0], y_[1]\n",
    "\n",
    "    # 方向ベクトルと通る点のベクトルを返す\n",
    "    vector_u = np.array([a, c, 1.0])\n",
    "    vector_a = np.array([b, d, 0.0])\n",
    "\n",
    "    return vector_u, vector_a"
   ]
  },
  {
   "cell_type": "code",
   "execution_count": 25,
   "metadata": {
    "pycharm": {
     "name": "#%%\n"
    }
   },
   "outputs": [],
   "source": [
    "vector_u, vector_a = calc_line_by_2_plane_by_least_square(points_on_carpenter)"
   ]
  },
  {
   "cell_type": "code",
   "execution_count": 26,
   "metadata": {
    "pycharm": {
     "name": "#%%\n"
    }
   },
   "outputs": [
    {
     "data": {
      "text/plain": "[0.9652097741426666,\n 0.7877181868876459,\n 0.1643995978708535,\n 0.27102076501221645,\n 1.0741786918889138]"
     },
     "execution_count": 26,
     "metadata": {},
     "output_type": "execute_result"
    }
   ],
   "source": [
    "distance_to_line = []\n",
    "\n",
    "for row in points_on_carpenter.itertuples():\n",
    "    vector_p = np.array([row[1], row[2], row[3]])\n",
    "    vector_ap = vector_p - vector_a\n",
    "    d = np.linalg.norm(np.cross(vector_ap, vector_u)) / np.linalg.norm(vector_u)\n",
    "    distance_to_line += [d]\n",
    "\n",
    "distance_to_line"
   ]
  },
  {
   "cell_type": "markdown",
   "metadata": {},
   "source": [
    "### 4. Points on the cylinder\n",
    "\n",
    "#### 4.1. Points on the top of the cylinder"
   ]
  },
  {
   "cell_type": "code",
   "execution_count": 27,
   "metadata": {
    "pycharm": {
     "name": "#%%\n"
    }
   },
   "outputs": [],
   "source": [
    "def calc_plane_by_least_squares(points: pd.DataFrame):\n",
    "    # array = []\n",
    "    # vector = []\n",
    "    #\n",
    "    # for row in points.itertuples():\n",
    "    #     x, y, z = row[1], row[2], row[3]\n",
    "    #     array += [[1, x, y]]\n",
    "    #     vector += [z]\n",
    "    #\n",
    "    #\n",
    "    # array = np.array(array)\n",
    "    # vector = np.array(vector)\n",
    "    #\n",
    "    # a_t_a = array.T @ array\n",
    "    # a_t_b = array.T @ vector\n",
    "    #\n",
    "    # x_ = np.linalg.solve(a_t_a, a_t_b)\n",
    "\n",
    "    x_sq = [x ** 2 for x in points[\"X\"]]\n",
    "    y_sq = [y ** 2 for y in points[\"Y\"]]\n",
    "    x_y = [x * y for x, y in zip(points[\"X\"], points[\"Y\"])]\n",
    "    x_z = [x * z for x, z in zip(points[\"X\"], points[\"Z\"])]\n",
    "    y_z = [y * z for y, z in zip(points[\"Y\"], points[\"Z\"])]\n",
    "\n",
    "    array = [\n",
    "        [1 * len(points), sum(points[\"X\"]), sum(points[\"Y\"])],\n",
    "        [sum(points[\"X\"]), sum(x_sq), sum(x_y)],\n",
    "        [sum(points[\"Y\"]), sum(x_y), sum(y_sq)]\n",
    "    ]\n",
    "\n",
    "    vector = [\n",
    "        sum(points[\"Z\"]),\n",
    "        sum(x_z),\n",
    "        sum(y_z)\n",
    "    ]\n",
    "\n",
    "    array = np.array(array)\n",
    "    vector = np.array(vector)\n",
    "\n",
    "    x_ = np.linalg.solve(array, vector)\n",
    "\n",
    "    return x_ # a, b, c"
   ]
  },
  {
   "cell_type": "code",
   "execution_count": 28,
   "metadata": {
    "pycharm": {
     "name": "#%%\n"
    }
   },
   "outputs": [
    {
     "data": {
      "text/plain": "array([ 9.30262932,  0.00390124, -0.01904065])"
     },
     "execution_count": 28,
     "metadata": {},
     "output_type": "execute_result"
    }
   ],
   "source": [
    "# 円筒上の点は5-9まで\n",
    "points_on_plane = s.points_of_objects.iloc[5:10, :]\n",
    "\n",
    "plane_param = calc_plane_by_least_squares(points_on_plane)\n",
    "plane_param"
   ]
  },
  {
   "cell_type": "code",
   "execution_count": 29,
   "metadata": {
    "pycharm": {
     "name": "#%%\n"
    }
   },
   "outputs": [
    {
     "data": {
      "text/plain": "[0.023298652032435353,\n 0.03567519764782742,\n 0.048993062865223806,\n 0.011008565785027964,\n 0.02560795146480022]"
     },
     "execution_count": 29,
     "metadata": {},
     "output_type": "execute_result"
    }
   ],
   "source": [
    "distance_to_plane = []\n",
    "\n",
    "for row in points_on_plane.itertuples():\n",
    "    x, y, z = row[1], row[2], row[3]\n",
    "    d = np.abs(plane_param[1] * x + plane_param[2] * y + (-1) * z + plane_param[0]) / np.sqrt(plane_param[1] ** 2 + plane_param[2] ** 2 + (-1) ** 2)\n",
    "    distance_to_plane += [d]\n",
    "\n",
    "distance_to_plane"
   ]
  },
  {
   "cell_type": "code",
   "execution_count": 30,
   "metadata": {
    "pycharm": {
     "name": "#%%\n"
    }
   },
   "outputs": [
    {
     "data": {
      "text/plain": "0.028916685959062948"
     },
     "execution_count": 30,
     "metadata": {},
     "output_type": "execute_result"
    }
   ],
   "source": [
    "np.average(distance_to_plane)"
   ]
  },
  {
   "cell_type": "markdown",
   "metadata": {
    "pycharm": {
     "name": "#%% md\n"
    }
   },
   "source": [
    "#### 4.2. Points on the side of the cylinder"
   ]
  },
  {
   "cell_type": "code",
   "execution_count": 31,
   "metadata": {
    "pycharm": {
     "name": "#%%\n"
    }
   },
   "outputs": [],
   "source": [
    "def calc_circle_by_least_squares(points: pd.DataFrame):\n",
    "    sum_x_sq = [x ** 2 for x in points[\"X\"]]\n",
    "    sum_y_sq = [y ** 2 for y in points[\"Y\"]]\n",
    "    sum_x_y = [x * y for x, y in zip(points[\"X\"], points[\"Y\"])]\n",
    "\n",
    "    array = [\n",
    "        [sum(sum_x_sq), sum(sum_x_y), sum(points[\"X\"])],\n",
    "        [sum(sum_x_y), sum(sum_y_sq), sum(points[\"Y\"])],\n",
    "        [sum(points[\"X\"]), sum(points[\"Y\"]), 1 * len(points)]\n",
    "    ]\n",
    "\n",
    "    sum_v_1 = [x ** 3 + x * (y ** 2) for x, y in zip(points[\"X\"], points[\"Y\"])]\n",
    "    sum_v_2 = [(x ** 2) * y + y ** 3 for x, y in zip(points[\"X\"], points[\"Y\"])]\n",
    "    sum_v_3 = [x ** 2 + y ** 2 for x, y in zip(points[\"X\"], points[\"Y\"])]\n",
    "\n",
    "    vector = [\n",
    "        -1 * sum(sum_v_1),\n",
    "        -1 * sum(sum_v_2),\n",
    "        -1 * sum(sum_v_3)\n",
    "    ]\n",
    "\n",
    "    array = np.array(array)\n",
    "    vector = np.array(vector)\n",
    "\n",
    "    x_ = np.linalg.solve(array, vector)\n",
    "    a = x_[0] / -2\n",
    "    b = x_[1] / -2\n",
    "    r = np.sqrt(a ** 2 + b ** 2 - x_[2])\n",
    "\n",
    "    return a, b, r"
   ]
  },
  {
   "cell_type": "code",
   "execution_count": 32,
   "metadata": {
    "pycharm": {
     "name": "#%%\n"
    }
   },
   "outputs": [
    {
     "name": "stdout",
     "output_type": "stream",
     "text": [
      "(x - 7.268304187128073)^2 + (y - 7.626023293974528)^2 = 4.481011182745071^2\n"
     ]
    }
   ],
   "source": [
    "# 円筒の側面の点は10-14まで\n",
    "points_on_circle = s.points_of_objects.iloc[10:15, :]\n",
    "\n",
    "a, b, r = calc_circle_by_least_squares(points_on_circle)\n",
    "print(\"(x - {})^2 + (y - {})^2 = {}^2\".format(a, b, r))"
   ]
  },
  {
   "cell_type": "code",
   "execution_count": 33,
   "metadata": {
    "pycharm": {
     "name": "#%%\n"
    }
   },
   "outputs": [
    {
     "data": {
      "text/plain": "[4.467863017432985,\n 4.471586529179541,\n 4.496490926762426,\n 4.5244498869902685,\n 4.444248264285362]"
     },
     "execution_count": 33,
     "metadata": {},
     "output_type": "execute_result"
    }
   ],
   "source": [
    "# 円の中心との距離を求める\n",
    "\n",
    "distance_to_center = []\n",
    "\n",
    "for row in points_on_circle.itertuples():\n",
    "    x, y = row[1], row[2]\n",
    "    d = np.sqrt((x - a) ** 2 + (y - b) ** 2)\n",
    "\n",
    "    distance_to_center += [d]\n",
    "\n",
    "distance_to_center"
   ]
  },
  {
   "cell_type": "code",
   "execution_count": 34,
   "metadata": {
    "pycharm": {
     "name": "#%%\n"
    }
   },
   "outputs": [
    {
     "data": {
      "text/plain": "array([0.01314817, 0.00942465, 0.01547974, 0.0434387 , 0.03676292])"
     },
     "execution_count": 34,
     "metadata": {},
     "output_type": "execute_result"
    }
   ],
   "source": [
    "# 半径との差をとる\n",
    "np.abs(distance_to_center - r)"
   ]
  },
  {
   "cell_type": "markdown",
   "metadata": {},
   "source": [
    "### 5. Project obtained 3D points from 1.JPG and 2.JPG to 3.JPG"
   ]
  },
  {
   "cell_type": "code",
   "execution_count": 35,
   "metadata": {
    "pycharm": {
     "name": "#%%\n"
    }
   },
   "outputs": [
    {
     "data": {
      "text/plain": "       u     v          x          y         z\n0   1401  2258  25.468530  16.458917  0.270884\n1   1478  2248  24.743225  17.174606  0.214594\n2   1774  2204  21.962353  20.021673  0.320999\n3   1992  2175  19.918089  22.159870  0.384598\n4   2350  2126  16.423759  25.699606  0.353875\n5   1770   742   5.257630   7.236557  9.162049\n6   1461   861  10.595123   5.504049  9.274845\n7   1652   893   9.372817   8.251849  9.133072\n8   1851   921   8.152569  11.089605  9.134292\n9   1936   776   4.450473   9.936239  9.156412\n10  1514  1237  11.595717   6.514583  2.843924\n11  1728  1127  10.649637  10.552058  6.592755\n12  1493  1077  11.654615   6.636726  6.332305\n13  1820   997   9.527527  11.546043  8.798316\n14  1838  1287   9.398233  11.526632  2.802478\n15  2027  1448  13.092584  17.841861  6.145891\n16  1910  1720  15.309641  17.378327  1.983136\n17  2221  1736  13.306511  21.428612  2.559985\n18  1488  1526  18.577163  12.743365  6.161236\n19  2823  1383   8.386110  27.033061  9.009765",
      "text/html": "<div>\n<style scoped>\n    .dataframe tbody tr th:only-of-type {\n        vertical-align: middle;\n    }\n\n    .dataframe tbody tr th {\n        vertical-align: top;\n    }\n\n    .dataframe thead th {\n        text-align: right;\n    }\n</style>\n<table border=\"1\" class=\"dataframe\">\n  <thead>\n    <tr style=\"text-align: right;\">\n      <th></th>\n      <th>u</th>\n      <th>v</th>\n      <th>x</th>\n      <th>y</th>\n      <th>z</th>\n    </tr>\n  </thead>\n  <tbody>\n    <tr>\n      <td>0</td>\n      <td>1401</td>\n      <td>2258</td>\n      <td>25.468530</td>\n      <td>16.458917</td>\n      <td>0.270884</td>\n    </tr>\n    <tr>\n      <td>1</td>\n      <td>1478</td>\n      <td>2248</td>\n      <td>24.743225</td>\n      <td>17.174606</td>\n      <td>0.214594</td>\n    </tr>\n    <tr>\n      <td>2</td>\n      <td>1774</td>\n      <td>2204</td>\n      <td>21.962353</td>\n      <td>20.021673</td>\n      <td>0.320999</td>\n    </tr>\n    <tr>\n      <td>3</td>\n      <td>1992</td>\n      <td>2175</td>\n      <td>19.918089</td>\n      <td>22.159870</td>\n      <td>0.384598</td>\n    </tr>\n    <tr>\n      <td>4</td>\n      <td>2350</td>\n      <td>2126</td>\n      <td>16.423759</td>\n      <td>25.699606</td>\n      <td>0.353875</td>\n    </tr>\n    <tr>\n      <td>5</td>\n      <td>1770</td>\n      <td>742</td>\n      <td>5.257630</td>\n      <td>7.236557</td>\n      <td>9.162049</td>\n    </tr>\n    <tr>\n      <td>6</td>\n      <td>1461</td>\n      <td>861</td>\n      <td>10.595123</td>\n      <td>5.504049</td>\n      <td>9.274845</td>\n    </tr>\n    <tr>\n      <td>7</td>\n      <td>1652</td>\n      <td>893</td>\n      <td>9.372817</td>\n      <td>8.251849</td>\n      <td>9.133072</td>\n    </tr>\n    <tr>\n      <td>8</td>\n      <td>1851</td>\n      <td>921</td>\n      <td>8.152569</td>\n      <td>11.089605</td>\n      <td>9.134292</td>\n    </tr>\n    <tr>\n      <td>9</td>\n      <td>1936</td>\n      <td>776</td>\n      <td>4.450473</td>\n      <td>9.936239</td>\n      <td>9.156412</td>\n    </tr>\n    <tr>\n      <td>10</td>\n      <td>1514</td>\n      <td>1237</td>\n      <td>11.595717</td>\n      <td>6.514583</td>\n      <td>2.843924</td>\n    </tr>\n    <tr>\n      <td>11</td>\n      <td>1728</td>\n      <td>1127</td>\n      <td>10.649637</td>\n      <td>10.552058</td>\n      <td>6.592755</td>\n    </tr>\n    <tr>\n      <td>12</td>\n      <td>1493</td>\n      <td>1077</td>\n      <td>11.654615</td>\n      <td>6.636726</td>\n      <td>6.332305</td>\n    </tr>\n    <tr>\n      <td>13</td>\n      <td>1820</td>\n      <td>997</td>\n      <td>9.527527</td>\n      <td>11.546043</td>\n      <td>8.798316</td>\n    </tr>\n    <tr>\n      <td>14</td>\n      <td>1838</td>\n      <td>1287</td>\n      <td>9.398233</td>\n      <td>11.526632</td>\n      <td>2.802478</td>\n    </tr>\n    <tr>\n      <td>15</td>\n      <td>2027</td>\n      <td>1448</td>\n      <td>13.092584</td>\n      <td>17.841861</td>\n      <td>6.145891</td>\n    </tr>\n    <tr>\n      <td>16</td>\n      <td>1910</td>\n      <td>1720</td>\n      <td>15.309641</td>\n      <td>17.378327</td>\n      <td>1.983136</td>\n    </tr>\n    <tr>\n      <td>17</td>\n      <td>2221</td>\n      <td>1736</td>\n      <td>13.306511</td>\n      <td>21.428612</td>\n      <td>2.559985</td>\n    </tr>\n    <tr>\n      <td>18</td>\n      <td>1488</td>\n      <td>1526</td>\n      <td>18.577163</td>\n      <td>12.743365</td>\n      <td>6.161236</td>\n    </tr>\n    <tr>\n      <td>19</td>\n      <td>2823</td>\n      <td>1383</td>\n      <td>8.386110</td>\n      <td>27.033061</td>\n      <td>9.009765</td>\n    </tr>\n  </tbody>\n</table>\n</div>"
     },
     "execution_count": 35,
     "metadata": {},
     "output_type": "execute_result"
    }
   ],
   "source": [
    "re_point_3 = c3.perspective_project_points(points_1_)\n",
    "re_point_3"
   ]
  },
  {
   "cell_type": "code",
   "execution_count": 36,
   "metadata": {
    "pycharm": {
     "name": "#%%\n"
    }
   },
   "outputs": [],
   "source": [
    "points_3_obj = pd.read_csv(\"points/points_3_object.csv\")\n",
    "points_3_obj = pd.concat([points_3_obj, s.points_of_objects], axis=1)\n",
    "\n",
    "plot_calibration_points(\"data/3.JPG\", \"data/3_stereo_project.JPG\", points_3_obj)\n",
    "plot_calibration_points(\"data/3_stereo_project.JPG\", \"data/3_stereo_project.JPG\", re_point_3,\n",
    "                        color=(0, 0, 230))"
   ]
  },
  {
   "cell_type": "markdown",
   "metadata": {
    "pycharm": {
     "name": "#%% md\n"
    }
   },
   "source": [
    "Real-Projection Error (?)"
   ]
  },
  {
   "cell_type": "code",
   "execution_count": 37,
   "metadata": {
    "pycharm": {
     "name": "#%%\n"
    }
   },
   "outputs": [],
   "source": [
    "def real_projection_error(real_points: pd.DataFrame, projection_points: pd.DataFrame):\n",
    "    errors = []\n",
    "    for row_real, row_pro in zip(real_points.itertuples(), projection_points.itertuples()):\n",
    "        error = np.sqrt((row_real[1] - row_pro[1]) ** 2 + (row_real[2] - row_pro[2]) ** 2)\n",
    "        errors += [error]\n",
    "\n",
    "    return np.average(errors), errors"
   ]
  },
  {
   "cell_type": "code",
   "execution_count": 38,
   "metadata": {
    "pycharm": {
     "name": "#%%\n"
    }
   },
   "outputs": [
    {
     "data": {
      "text/plain": "3.553248273005417"
     },
     "execution_count": 38,
     "metadata": {},
     "output_type": "execute_result"
    }
   ],
   "source": [
    "rpe, rp_errors = real_projection_error(points_3_obj, re_point_3)\n",
    "rpe"
   ]
  },
  {
   "cell_type": "markdown",
   "source": [
    "##### Find the nearest calibration point to the projection point"
   ],
   "metadata": {
    "collapsed": false,
    "pycharm": {
     "name": "#%% md\n"
    }
   }
  },
  {
   "cell_type": "code",
   "execution_count": 39,
   "outputs": [
    {
     "data": {
      "text/plain": "      distance  calibration_id      error\n0   547.442234               2   1.414214\n1   480.936586               2   0.000000\n2   276.007246               2   4.000000\n3   281.801348               2   6.708204\n4   545.424605               2   6.324555\n5   190.968584              12   3.605551\n6   455.281232               6   2.828427\n7   382.562413              12   3.000000\n8   350.051425              12   3.162278\n9   220.628647              12   3.000000\n10  128.658463               1   9.219544\n11  320.320152               1   2.236068\n12  278.115084               1   2.236068\n13  339.991176               0   3.162278\n14  260.931025               0   2.236068\n15  255.154855               0  11.045361\n16  224.243172               2   2.236068\n17  428.117974               2   1.414214\n18  171.656634               1   1.000000\n19  317.403529              13   2.236068",
      "text/html": "<div>\n<style scoped>\n    .dataframe tbody tr th:only-of-type {\n        vertical-align: middle;\n    }\n\n    .dataframe tbody tr th {\n        vertical-align: top;\n    }\n\n    .dataframe thead th {\n        text-align: right;\n    }\n</style>\n<table border=\"1\" class=\"dataframe\">\n  <thead>\n    <tr style=\"text-align: right;\">\n      <th></th>\n      <th>distance</th>\n      <th>calibration_id</th>\n      <th>error</th>\n    </tr>\n  </thead>\n  <tbody>\n    <tr>\n      <td>0</td>\n      <td>547.442234</td>\n      <td>2</td>\n      <td>1.414214</td>\n    </tr>\n    <tr>\n      <td>1</td>\n      <td>480.936586</td>\n      <td>2</td>\n      <td>0.000000</td>\n    </tr>\n    <tr>\n      <td>2</td>\n      <td>276.007246</td>\n      <td>2</td>\n      <td>4.000000</td>\n    </tr>\n    <tr>\n      <td>3</td>\n      <td>281.801348</td>\n      <td>2</td>\n      <td>6.708204</td>\n    </tr>\n    <tr>\n      <td>4</td>\n      <td>545.424605</td>\n      <td>2</td>\n      <td>6.324555</td>\n    </tr>\n    <tr>\n      <td>5</td>\n      <td>190.968584</td>\n      <td>12</td>\n      <td>3.605551</td>\n    </tr>\n    <tr>\n      <td>6</td>\n      <td>455.281232</td>\n      <td>6</td>\n      <td>2.828427</td>\n    </tr>\n    <tr>\n      <td>7</td>\n      <td>382.562413</td>\n      <td>12</td>\n      <td>3.000000</td>\n    </tr>\n    <tr>\n      <td>8</td>\n      <td>350.051425</td>\n      <td>12</td>\n      <td>3.162278</td>\n    </tr>\n    <tr>\n      <td>9</td>\n      <td>220.628647</td>\n      <td>12</td>\n      <td>3.000000</td>\n    </tr>\n    <tr>\n      <td>10</td>\n      <td>128.658463</td>\n      <td>1</td>\n      <td>9.219544</td>\n    </tr>\n    <tr>\n      <td>11</td>\n      <td>320.320152</td>\n      <td>1</td>\n      <td>2.236068</td>\n    </tr>\n    <tr>\n      <td>12</td>\n      <td>278.115084</td>\n      <td>1</td>\n      <td>2.236068</td>\n    </tr>\n    <tr>\n      <td>13</td>\n      <td>339.991176</td>\n      <td>0</td>\n      <td>3.162278</td>\n    </tr>\n    <tr>\n      <td>14</td>\n      <td>260.931025</td>\n      <td>0</td>\n      <td>2.236068</td>\n    </tr>\n    <tr>\n      <td>15</td>\n      <td>255.154855</td>\n      <td>0</td>\n      <td>11.045361</td>\n    </tr>\n    <tr>\n      <td>16</td>\n      <td>224.243172</td>\n      <td>2</td>\n      <td>2.236068</td>\n    </tr>\n    <tr>\n      <td>17</td>\n      <td>428.117974</td>\n      <td>2</td>\n      <td>1.414214</td>\n    </tr>\n    <tr>\n      <td>18</td>\n      <td>171.656634</td>\n      <td>1</td>\n      <td>1.000000</td>\n    </tr>\n    <tr>\n      <td>19</td>\n      <td>317.403529</td>\n      <td>13</td>\n      <td>2.236068</td>\n    </tr>\n  </tbody>\n</table>\n</div>"
     },
     "execution_count": 39,
     "metadata": {},
     "output_type": "execute_result"
    }
   ],
   "source": [
    "distance_nearest_points = []\n",
    "idx_nearest_points = []\n",
    "\n",
    "for row_p in points_3_obj.itertuples():\n",
    "    distance_to_calibration_points = []\n",
    "    u_p, v_p = row_p[1], row_p[2]\n",
    "    for row_c in c3.points_for_calibration.itertuples():\n",
    "        u_c, v_c = row_c[1], row_c[2]\n",
    "        d = np.sqrt((u_p - u_c) ** 2 + (v_p - v_c) ** 2)\n",
    "        distance_to_calibration_points += [d]\n",
    "\n",
    "    distance_nearest_points += [np.min(distance_to_calibration_points)]\n",
    "    idx_nearest_points += [np.argmin(distance_to_calibration_points)]\n",
    "\n",
    "nearest = pd.DataFrame({\"distance\": distance_nearest_points,\n",
    "                        \"calibration_id\": idx_nearest_points,\n",
    "                        \"error\": rp_errors})\n",
    "nearest"
   ],
   "metadata": {
    "collapsed": false,
    "pycharm": {
     "name": "#%%\n"
    }
   }
  },
  {
   "cell_type": "markdown",
   "source": [
    "##### Correlation coefficient between the distance to the calibration point and error to the the corresponding point"
   ],
   "metadata": {
    "collapsed": false,
    "pycharm": {
     "name": "#%% md\n"
    }
   }
  },
  {
   "cell_type": "code",
   "execution_count": 40,
   "outputs": [
    {
     "data": {
      "text/plain": "          distance     error\ndistance  1.000000 -0.293951\nerror    -0.293951  1.000000",
      "text/html": "<div>\n<style scoped>\n    .dataframe tbody tr th:only-of-type {\n        vertical-align: middle;\n    }\n\n    .dataframe tbody tr th {\n        vertical-align: top;\n    }\n\n    .dataframe thead th {\n        text-align: right;\n    }\n</style>\n<table border=\"1\" class=\"dataframe\">\n  <thead>\n    <tr style=\"text-align: right;\">\n      <th></th>\n      <th>distance</th>\n      <th>error</th>\n    </tr>\n  </thead>\n  <tbody>\n    <tr>\n      <td>distance</td>\n      <td>1.000000</td>\n      <td>-0.293951</td>\n    </tr>\n    <tr>\n      <td>error</td>\n      <td>-0.293951</td>\n      <td>1.000000</td>\n    </tr>\n  </tbody>\n</table>\n</div>"
     },
     "execution_count": 40,
     "metadata": {},
     "output_type": "execute_result"
    }
   ],
   "source": [
    "cor_ = np.corrcoef(nearest[\"distance\"], rp_errors)\n",
    "pd.DataFrame(cor_, index=[\"distance\", \"error\"], columns=[\"distance\", \"error\"])"
   ],
   "metadata": {
    "collapsed": false,
    "pycharm": {
     "name": "#%%\n"
    }
   }
  },
  {
   "cell_type": "code",
   "execution_count": 41,
   "outputs": [],
   "source": [
    "import plotly.offline\n",
    "import plotly.graph_objects as go"
   ],
   "metadata": {
    "collapsed": false,
    "pycharm": {
     "name": "#%%\n"
    }
   }
  },
  {
   "cell_type": "code",
   "execution_count": 42,
   "outputs": [
    {
     "data": {
      "text/html": "        <script type=\"text/javascript\">\n        window.PlotlyConfig = {MathJaxConfig: 'local'};\n        if (window.MathJax) {MathJax.Hub.Config({SVG: {font: \"STIX-Web\"}});}\n        if (typeof require !== 'undefined') {\n        require.undef(\"plotly\");\n        requirejs.config({\n            paths: {\n                'plotly': ['https://cdn.plot.ly/plotly-latest.min']\n            }\n        });\n        require(['plotly'], function(Plotly) {\n            window._Plotly = Plotly;\n        });\n        }\n        </script>\n        "
     },
     "metadata": {},
     "output_type": "display_data"
    }
   ],
   "source": [
    "plotly.offline.init_notebook_mode(connected=True)"
   ],
   "metadata": {
    "collapsed": false,
    "pycharm": {
     "name": "#%%\n"
    }
   }
  },
  {
   "cell_type": "code",
   "execution_count": 43,
   "outputs": [
    {
     "data": {
      "application/vnd.plotly.v1+json": {
       "config": {
        "plotlyServerURL": "https://plot.ly"
       },
       "data": [
        {
         "marker": {
          "size": 7
         },
         "mode": "markers",
         "type": "scatter",
         "x": [
          547.4422343955571,
          480.9365862564419,
          276.00724628168734,
          281.80134847086873,
          545.4246052388909,
          190.9685838037241,
          455.2812317677943,
          382.5624132086162,
          350.051424793558,
          220.62864727863425,
          128.65846260545786,
          320.3201523476161,
          278.1150840928985,
          339.9911763560931,
          260.93102536877444,
          255.15485494107298,
          224.24317157942625,
          428.117974394909,
          171.6566340110396,
          317.40352865083275
         ],
         "y": [
          1.4142135623730951,
          0.0,
          4.0,
          6.708203932499369,
          6.324555320336759,
          3.605551275463989,
          2.8284271247461903,
          3.0,
          3.1622776601683795,
          3.0,
          9.219544457292887,
          2.23606797749979,
          2.23606797749979,
          3.1622776601683795,
          2.23606797749979,
          11.045361017187261,
          2.23606797749979,
          1.4142135623730951,
          1.0,
          2.23606797749979
         ]
        }
       ],
       "layout": {
        "height": 700,
        "template": {
         "data": {
          "bar": [
           {
            "error_x": {
             "color": "#2a3f5f"
            },
            "error_y": {
             "color": "#2a3f5f"
            },
            "marker": {
             "line": {
              "color": "#E5ECF6",
              "width": 0.5
             }
            },
            "type": "bar"
           }
          ],
          "barpolar": [
           {
            "marker": {
             "line": {
              "color": "#E5ECF6",
              "width": 0.5
             }
            },
            "type": "barpolar"
           }
          ],
          "carpet": [
           {
            "aaxis": {
             "endlinecolor": "#2a3f5f",
             "gridcolor": "white",
             "linecolor": "white",
             "minorgridcolor": "white",
             "startlinecolor": "#2a3f5f"
            },
            "baxis": {
             "endlinecolor": "#2a3f5f",
             "gridcolor": "white",
             "linecolor": "white",
             "minorgridcolor": "white",
             "startlinecolor": "#2a3f5f"
            },
            "type": "carpet"
           }
          ],
          "choropleth": [
           {
            "colorbar": {
             "outlinewidth": 0,
             "ticks": ""
            },
            "type": "choropleth"
           }
          ],
          "contour": [
           {
            "colorbar": {
             "outlinewidth": 0,
             "ticks": ""
            },
            "colorscale": [
             [
              0.0,
              "#0d0887"
             ],
             [
              0.1111111111111111,
              "#46039f"
             ],
             [
              0.2222222222222222,
              "#7201a8"
             ],
             [
              0.3333333333333333,
              "#9c179e"
             ],
             [
              0.4444444444444444,
              "#bd3786"
             ],
             [
              0.5555555555555556,
              "#d8576b"
             ],
             [
              0.6666666666666666,
              "#ed7953"
             ],
             [
              0.7777777777777778,
              "#fb9f3a"
             ],
             [
              0.8888888888888888,
              "#fdca26"
             ],
             [
              1.0,
              "#f0f921"
             ]
            ],
            "type": "contour"
           }
          ],
          "contourcarpet": [
           {
            "colorbar": {
             "outlinewidth": 0,
             "ticks": ""
            },
            "type": "contourcarpet"
           }
          ],
          "heatmap": [
           {
            "colorbar": {
             "outlinewidth": 0,
             "ticks": ""
            },
            "colorscale": [
             [
              0.0,
              "#0d0887"
             ],
             [
              0.1111111111111111,
              "#46039f"
             ],
             [
              0.2222222222222222,
              "#7201a8"
             ],
             [
              0.3333333333333333,
              "#9c179e"
             ],
             [
              0.4444444444444444,
              "#bd3786"
             ],
             [
              0.5555555555555556,
              "#d8576b"
             ],
             [
              0.6666666666666666,
              "#ed7953"
             ],
             [
              0.7777777777777778,
              "#fb9f3a"
             ],
             [
              0.8888888888888888,
              "#fdca26"
             ],
             [
              1.0,
              "#f0f921"
             ]
            ],
            "type": "heatmap"
           }
          ],
          "heatmapgl": [
           {
            "colorbar": {
             "outlinewidth": 0,
             "ticks": ""
            },
            "colorscale": [
             [
              0.0,
              "#0d0887"
             ],
             [
              0.1111111111111111,
              "#46039f"
             ],
             [
              0.2222222222222222,
              "#7201a8"
             ],
             [
              0.3333333333333333,
              "#9c179e"
             ],
             [
              0.4444444444444444,
              "#bd3786"
             ],
             [
              0.5555555555555556,
              "#d8576b"
             ],
             [
              0.6666666666666666,
              "#ed7953"
             ],
             [
              0.7777777777777778,
              "#fb9f3a"
             ],
             [
              0.8888888888888888,
              "#fdca26"
             ],
             [
              1.0,
              "#f0f921"
             ]
            ],
            "type": "heatmapgl"
           }
          ],
          "histogram": [
           {
            "marker": {
             "colorbar": {
              "outlinewidth": 0,
              "ticks": ""
             }
            },
            "type": "histogram"
           }
          ],
          "histogram2d": [
           {
            "colorbar": {
             "outlinewidth": 0,
             "ticks": ""
            },
            "colorscale": [
             [
              0.0,
              "#0d0887"
             ],
             [
              0.1111111111111111,
              "#46039f"
             ],
             [
              0.2222222222222222,
              "#7201a8"
             ],
             [
              0.3333333333333333,
              "#9c179e"
             ],
             [
              0.4444444444444444,
              "#bd3786"
             ],
             [
              0.5555555555555556,
              "#d8576b"
             ],
             [
              0.6666666666666666,
              "#ed7953"
             ],
             [
              0.7777777777777778,
              "#fb9f3a"
             ],
             [
              0.8888888888888888,
              "#fdca26"
             ],
             [
              1.0,
              "#f0f921"
             ]
            ],
            "type": "histogram2d"
           }
          ],
          "histogram2dcontour": [
           {
            "colorbar": {
             "outlinewidth": 0,
             "ticks": ""
            },
            "colorscale": [
             [
              0.0,
              "#0d0887"
             ],
             [
              0.1111111111111111,
              "#46039f"
             ],
             [
              0.2222222222222222,
              "#7201a8"
             ],
             [
              0.3333333333333333,
              "#9c179e"
             ],
             [
              0.4444444444444444,
              "#bd3786"
             ],
             [
              0.5555555555555556,
              "#d8576b"
             ],
             [
              0.6666666666666666,
              "#ed7953"
             ],
             [
              0.7777777777777778,
              "#fb9f3a"
             ],
             [
              0.8888888888888888,
              "#fdca26"
             ],
             [
              1.0,
              "#f0f921"
             ]
            ],
            "type": "histogram2dcontour"
           }
          ],
          "mesh3d": [
           {
            "colorbar": {
             "outlinewidth": 0,
             "ticks": ""
            },
            "type": "mesh3d"
           }
          ],
          "parcoords": [
           {
            "line": {
             "colorbar": {
              "outlinewidth": 0,
              "ticks": ""
             }
            },
            "type": "parcoords"
           }
          ],
          "pie": [
           {
            "automargin": true,
            "type": "pie"
           }
          ],
          "scatter": [
           {
            "marker": {
             "colorbar": {
              "outlinewidth": 0,
              "ticks": ""
             }
            },
            "type": "scatter"
           }
          ],
          "scatter3d": [
           {
            "line": {
             "colorbar": {
              "outlinewidth": 0,
              "ticks": ""
             }
            },
            "marker": {
             "colorbar": {
              "outlinewidth": 0,
              "ticks": ""
             }
            },
            "type": "scatter3d"
           }
          ],
          "scattercarpet": [
           {
            "marker": {
             "colorbar": {
              "outlinewidth": 0,
              "ticks": ""
             }
            },
            "type": "scattercarpet"
           }
          ],
          "scattergeo": [
           {
            "marker": {
             "colorbar": {
              "outlinewidth": 0,
              "ticks": ""
             }
            },
            "type": "scattergeo"
           }
          ],
          "scattergl": [
           {
            "marker": {
             "colorbar": {
              "outlinewidth": 0,
              "ticks": ""
             }
            },
            "type": "scattergl"
           }
          ],
          "scattermapbox": [
           {
            "marker": {
             "colorbar": {
              "outlinewidth": 0,
              "ticks": ""
             }
            },
            "type": "scattermapbox"
           }
          ],
          "scatterpolar": [
           {
            "marker": {
             "colorbar": {
              "outlinewidth": 0,
              "ticks": ""
             }
            },
            "type": "scatterpolar"
           }
          ],
          "scatterpolargl": [
           {
            "marker": {
             "colorbar": {
              "outlinewidth": 0,
              "ticks": ""
             }
            },
            "type": "scatterpolargl"
           }
          ],
          "scatterternary": [
           {
            "marker": {
             "colorbar": {
              "outlinewidth": 0,
              "ticks": ""
             }
            },
            "type": "scatterternary"
           }
          ],
          "surface": [
           {
            "colorbar": {
             "outlinewidth": 0,
             "ticks": ""
            },
            "colorscale": [
             [
              0.0,
              "#0d0887"
             ],
             [
              0.1111111111111111,
              "#46039f"
             ],
             [
              0.2222222222222222,
              "#7201a8"
             ],
             [
              0.3333333333333333,
              "#9c179e"
             ],
             [
              0.4444444444444444,
              "#bd3786"
             ],
             [
              0.5555555555555556,
              "#d8576b"
             ],
             [
              0.6666666666666666,
              "#ed7953"
             ],
             [
              0.7777777777777778,
              "#fb9f3a"
             ],
             [
              0.8888888888888888,
              "#fdca26"
             ],
             [
              1.0,
              "#f0f921"
             ]
            ],
            "type": "surface"
           }
          ],
          "table": [
           {
            "cells": {
             "fill": {
              "color": "#EBF0F8"
             },
             "line": {
              "color": "white"
             }
            },
            "header": {
             "fill": {
              "color": "#C8D4E3"
             },
             "line": {
              "color": "white"
             }
            },
            "type": "table"
           }
          ]
         },
         "layout": {
          "annotationdefaults": {
           "arrowcolor": "#2a3f5f",
           "arrowhead": 0,
           "arrowwidth": 1
          },
          "coloraxis": {
           "colorbar": {
            "outlinewidth": 0,
            "ticks": ""
           }
          },
          "colorscale": {
           "diverging": [
            [
             0,
             "#8e0152"
            ],
            [
             0.1,
             "#c51b7d"
            ],
            [
             0.2,
             "#de77ae"
            ],
            [
             0.3,
             "#f1b6da"
            ],
            [
             0.4,
             "#fde0ef"
            ],
            [
             0.5,
             "#f7f7f7"
            ],
            [
             0.6,
             "#e6f5d0"
            ],
            [
             0.7,
             "#b8e186"
            ],
            [
             0.8,
             "#7fbc41"
            ],
            [
             0.9,
             "#4d9221"
            ],
            [
             1,
             "#276419"
            ]
           ],
           "sequential": [
            [
             0.0,
             "#0d0887"
            ],
            [
             0.1111111111111111,
             "#46039f"
            ],
            [
             0.2222222222222222,
             "#7201a8"
            ],
            [
             0.3333333333333333,
             "#9c179e"
            ],
            [
             0.4444444444444444,
             "#bd3786"
            ],
            [
             0.5555555555555556,
             "#d8576b"
            ],
            [
             0.6666666666666666,
             "#ed7953"
            ],
            [
             0.7777777777777778,
             "#fb9f3a"
            ],
            [
             0.8888888888888888,
             "#fdca26"
            ],
            [
             1.0,
             "#f0f921"
            ]
           ],
           "sequentialminus": [
            [
             0.0,
             "#0d0887"
            ],
            [
             0.1111111111111111,
             "#46039f"
            ],
            [
             0.2222222222222222,
             "#7201a8"
            ],
            [
             0.3333333333333333,
             "#9c179e"
            ],
            [
             0.4444444444444444,
             "#bd3786"
            ],
            [
             0.5555555555555556,
             "#d8576b"
            ],
            [
             0.6666666666666666,
             "#ed7953"
            ],
            [
             0.7777777777777778,
             "#fb9f3a"
            ],
            [
             0.8888888888888888,
             "#fdca26"
            ],
            [
             1.0,
             "#f0f921"
            ]
           ]
          },
          "colorway": [
           "#636efa",
           "#EF553B",
           "#00cc96",
           "#ab63fa",
           "#FFA15A",
           "#19d3f3",
           "#FF6692",
           "#B6E880",
           "#FF97FF",
           "#FECB52"
          ],
          "font": {
           "color": "#2a3f5f"
          },
          "geo": {
           "bgcolor": "white",
           "lakecolor": "white",
           "landcolor": "#E5ECF6",
           "showlakes": true,
           "showland": true,
           "subunitcolor": "white"
          },
          "hoverlabel": {
           "align": "left"
          },
          "hovermode": "closest",
          "mapbox": {
           "style": "light"
          },
          "paper_bgcolor": "white",
          "plot_bgcolor": "#E5ECF6",
          "polar": {
           "angularaxis": {
            "gridcolor": "white",
            "linecolor": "white",
            "ticks": ""
           },
           "bgcolor": "#E5ECF6",
           "radialaxis": {
            "gridcolor": "white",
            "linecolor": "white",
            "ticks": ""
           }
          },
          "scene": {
           "xaxis": {
            "backgroundcolor": "#E5ECF6",
            "gridcolor": "white",
            "gridwidth": 2,
            "linecolor": "white",
            "showbackground": true,
            "ticks": "",
            "zerolinecolor": "white"
           },
           "yaxis": {
            "backgroundcolor": "#E5ECF6",
            "gridcolor": "white",
            "gridwidth": 2,
            "linecolor": "white",
            "showbackground": true,
            "ticks": "",
            "zerolinecolor": "white"
           },
           "zaxis": {
            "backgroundcolor": "#E5ECF6",
            "gridcolor": "white",
            "gridwidth": 2,
            "linecolor": "white",
            "showbackground": true,
            "ticks": "",
            "zerolinecolor": "white"
           }
          },
          "shapedefaults": {
           "line": {
            "color": "#2a3f5f"
           }
          },
          "ternary": {
           "aaxis": {
            "gridcolor": "white",
            "linecolor": "white",
            "ticks": ""
           },
           "baxis": {
            "gridcolor": "white",
            "linecolor": "white",
            "ticks": ""
           },
           "bgcolor": "#E5ECF6",
           "caxis": {
            "gridcolor": "white",
            "linecolor": "white",
            "ticks": ""
           }
          },
          "title": {
           "x": 0.05
          },
          "xaxis": {
           "automargin": true,
           "gridcolor": "white",
           "linecolor": "white",
           "ticks": "",
           "title": {
            "standoff": 15
           },
           "zerolinecolor": "white",
           "zerolinewidth": 2
          },
          "yaxis": {
           "automargin": true,
           "gridcolor": "white",
           "linecolor": "white",
           "ticks": "",
           "title": {
            "standoff": 15
           },
           "zerolinecolor": "white",
           "zerolinewidth": 2
          }
         }
        },
        "width": 700,
        "xaxis": {
         "title": {
          "text": "Distance between Projection point and Calibration point"
         }
        },
        "yaxis": {
         "title": {
          "text": "Distance between Projection point and Corresponding point"
         }
        }
       }
      },
      "text/html": "<div>\n        \n        \n            <div id=\"bb55100e-6341-4577-ad9e-069b16ab945d\" class=\"plotly-graph-div\" style=\"height:700px; width:700px;\"></div>\n            <script type=\"text/javascript\">\n                require([\"plotly\"], function(Plotly) {\n                    window.PLOTLYENV=window.PLOTLYENV || {};\n                    \n                if (document.getElementById(\"bb55100e-6341-4577-ad9e-069b16ab945d\")) {\n                    Plotly.newPlot(\n                        'bb55100e-6341-4577-ad9e-069b16ab945d',\n                        [{\"marker\": {\"size\": 7}, \"mode\": \"markers\", \"type\": \"scatter\", \"x\": [547.4422343955571, 480.9365862564419, 276.00724628168734, 281.80134847086873, 545.4246052388909, 190.9685838037241, 455.2812317677943, 382.5624132086162, 350.051424793558, 220.62864727863425, 128.65846260545786, 320.3201523476161, 278.1150840928985, 339.9911763560931, 260.93102536877444, 255.15485494107298, 224.24317157942625, 428.117974394909, 171.6566340110396, 317.40352865083275], \"y\": [1.4142135623730951, 0.0, 4.0, 6.708203932499369, 6.324555320336759, 3.605551275463989, 2.8284271247461903, 3.0, 3.1622776601683795, 3.0, 9.219544457292887, 2.23606797749979, 2.23606797749979, 3.1622776601683795, 2.23606797749979, 11.045361017187261, 2.23606797749979, 1.4142135623730951, 1.0, 2.23606797749979]}],\n                        {\"height\": 700, \"template\": {\"data\": {\"bar\": [{\"error_x\": {\"color\": \"#2a3f5f\"}, \"error_y\": {\"color\": \"#2a3f5f\"}, \"marker\": {\"line\": {\"color\": \"#E5ECF6\", \"width\": 0.5}}, \"type\": \"bar\"}], \"barpolar\": [{\"marker\": {\"line\": {\"color\": \"#E5ECF6\", \"width\": 0.5}}, \"type\": \"barpolar\"}], \"carpet\": [{\"aaxis\": {\"endlinecolor\": \"#2a3f5f\", \"gridcolor\": \"white\", \"linecolor\": \"white\", \"minorgridcolor\": \"white\", \"startlinecolor\": \"#2a3f5f\"}, \"baxis\": {\"endlinecolor\": \"#2a3f5f\", \"gridcolor\": \"white\", \"linecolor\": \"white\", \"minorgridcolor\": \"white\", \"startlinecolor\": \"#2a3f5f\"}, \"type\": \"carpet\"}], \"choropleth\": [{\"colorbar\": {\"outlinewidth\": 0, \"ticks\": \"\"}, \"type\": \"choropleth\"}], \"contour\": [{\"colorbar\": {\"outlinewidth\": 0, \"ticks\": \"\"}, \"colorscale\": [[0.0, \"#0d0887\"], [0.1111111111111111, \"#46039f\"], [0.2222222222222222, \"#7201a8\"], [0.3333333333333333, \"#9c179e\"], [0.4444444444444444, \"#bd3786\"], [0.5555555555555556, \"#d8576b\"], [0.6666666666666666, \"#ed7953\"], [0.7777777777777778, \"#fb9f3a\"], [0.8888888888888888, \"#fdca26\"], [1.0, \"#f0f921\"]], \"type\": \"contour\"}], \"contourcarpet\": [{\"colorbar\": {\"outlinewidth\": 0, \"ticks\": \"\"}, \"type\": \"contourcarpet\"}], \"heatmap\": [{\"colorbar\": {\"outlinewidth\": 0, \"ticks\": \"\"}, \"colorscale\": [[0.0, \"#0d0887\"], [0.1111111111111111, \"#46039f\"], [0.2222222222222222, \"#7201a8\"], [0.3333333333333333, \"#9c179e\"], [0.4444444444444444, \"#bd3786\"], [0.5555555555555556, \"#d8576b\"], [0.6666666666666666, \"#ed7953\"], [0.7777777777777778, \"#fb9f3a\"], [0.8888888888888888, \"#fdca26\"], [1.0, \"#f0f921\"]], \"type\": \"heatmap\"}], \"heatmapgl\": [{\"colorbar\": {\"outlinewidth\": 0, \"ticks\": \"\"}, \"colorscale\": [[0.0, \"#0d0887\"], [0.1111111111111111, \"#46039f\"], [0.2222222222222222, \"#7201a8\"], [0.3333333333333333, \"#9c179e\"], [0.4444444444444444, \"#bd3786\"], [0.5555555555555556, \"#d8576b\"], [0.6666666666666666, \"#ed7953\"], [0.7777777777777778, \"#fb9f3a\"], [0.8888888888888888, \"#fdca26\"], [1.0, \"#f0f921\"]], \"type\": \"heatmapgl\"}], \"histogram\": [{\"marker\": {\"colorbar\": {\"outlinewidth\": 0, \"ticks\": \"\"}}, \"type\": \"histogram\"}], \"histogram2d\": [{\"colorbar\": {\"outlinewidth\": 0, \"ticks\": \"\"}, \"colorscale\": [[0.0, \"#0d0887\"], [0.1111111111111111, \"#46039f\"], [0.2222222222222222, \"#7201a8\"], [0.3333333333333333, \"#9c179e\"], [0.4444444444444444, \"#bd3786\"], [0.5555555555555556, \"#d8576b\"], [0.6666666666666666, \"#ed7953\"], [0.7777777777777778, \"#fb9f3a\"], [0.8888888888888888, \"#fdca26\"], [1.0, \"#f0f921\"]], \"type\": \"histogram2d\"}], \"histogram2dcontour\": [{\"colorbar\": {\"outlinewidth\": 0, \"ticks\": \"\"}, \"colorscale\": [[0.0, \"#0d0887\"], [0.1111111111111111, \"#46039f\"], [0.2222222222222222, \"#7201a8\"], [0.3333333333333333, \"#9c179e\"], [0.4444444444444444, \"#bd3786\"], [0.5555555555555556, \"#d8576b\"], [0.6666666666666666, \"#ed7953\"], [0.7777777777777778, \"#fb9f3a\"], [0.8888888888888888, \"#fdca26\"], [1.0, \"#f0f921\"]], \"type\": \"histogram2dcontour\"}], \"mesh3d\": [{\"colorbar\": {\"outlinewidth\": 0, \"ticks\": \"\"}, \"type\": \"mesh3d\"}], \"parcoords\": [{\"line\": {\"colorbar\": {\"outlinewidth\": 0, \"ticks\": \"\"}}, \"type\": \"parcoords\"}], \"pie\": [{\"automargin\": true, \"type\": \"pie\"}], \"scatter\": [{\"marker\": {\"colorbar\": {\"outlinewidth\": 0, \"ticks\": \"\"}}, \"type\": \"scatter\"}], \"scatter3d\": [{\"line\": {\"colorbar\": {\"outlinewidth\": 0, \"ticks\": \"\"}}, \"marker\": {\"colorbar\": {\"outlinewidth\": 0, \"ticks\": \"\"}}, \"type\": \"scatter3d\"}], \"scattercarpet\": [{\"marker\": {\"colorbar\": {\"outlinewidth\": 0, \"ticks\": \"\"}}, \"type\": \"scattercarpet\"}], \"scattergeo\": [{\"marker\": {\"colorbar\": {\"outlinewidth\": 0, \"ticks\": \"\"}}, \"type\": \"scattergeo\"}], \"scattergl\": [{\"marker\": {\"colorbar\": {\"outlinewidth\": 0, \"ticks\": \"\"}}, \"type\": \"scattergl\"}], \"scattermapbox\": [{\"marker\": {\"colorbar\": {\"outlinewidth\": 0, \"ticks\": \"\"}}, \"type\": \"scattermapbox\"}], \"scatterpolar\": [{\"marker\": {\"colorbar\": {\"outlinewidth\": 0, \"ticks\": \"\"}}, \"type\": \"scatterpolar\"}], \"scatterpolargl\": [{\"marker\": {\"colorbar\": {\"outlinewidth\": 0, \"ticks\": \"\"}}, \"type\": \"scatterpolargl\"}], \"scatterternary\": [{\"marker\": {\"colorbar\": {\"outlinewidth\": 0, \"ticks\": \"\"}}, \"type\": \"scatterternary\"}], \"surface\": [{\"colorbar\": {\"outlinewidth\": 0, \"ticks\": \"\"}, \"colorscale\": [[0.0, \"#0d0887\"], [0.1111111111111111, \"#46039f\"], [0.2222222222222222, \"#7201a8\"], [0.3333333333333333, \"#9c179e\"], [0.4444444444444444, \"#bd3786\"], [0.5555555555555556, \"#d8576b\"], [0.6666666666666666, \"#ed7953\"], [0.7777777777777778, \"#fb9f3a\"], [0.8888888888888888, \"#fdca26\"], [1.0, \"#f0f921\"]], \"type\": \"surface\"}], \"table\": [{\"cells\": {\"fill\": {\"color\": \"#EBF0F8\"}, \"line\": {\"color\": \"white\"}}, \"header\": {\"fill\": {\"color\": \"#C8D4E3\"}, \"line\": {\"color\": \"white\"}}, \"type\": \"table\"}]}, \"layout\": {\"annotationdefaults\": {\"arrowcolor\": \"#2a3f5f\", \"arrowhead\": 0, \"arrowwidth\": 1}, \"coloraxis\": {\"colorbar\": {\"outlinewidth\": 0, \"ticks\": \"\"}}, \"colorscale\": {\"diverging\": [[0, \"#8e0152\"], [0.1, \"#c51b7d\"], [0.2, \"#de77ae\"], [0.3, \"#f1b6da\"], [0.4, \"#fde0ef\"], [0.5, \"#f7f7f7\"], [0.6, \"#e6f5d0\"], [0.7, \"#b8e186\"], [0.8, \"#7fbc41\"], [0.9, \"#4d9221\"], [1, \"#276419\"]], \"sequential\": [[0.0, \"#0d0887\"], [0.1111111111111111, \"#46039f\"], [0.2222222222222222, \"#7201a8\"], [0.3333333333333333, \"#9c179e\"], [0.4444444444444444, \"#bd3786\"], [0.5555555555555556, \"#d8576b\"], [0.6666666666666666, \"#ed7953\"], [0.7777777777777778, \"#fb9f3a\"], [0.8888888888888888, \"#fdca26\"], [1.0, \"#f0f921\"]], \"sequentialminus\": [[0.0, \"#0d0887\"], [0.1111111111111111, \"#46039f\"], [0.2222222222222222, \"#7201a8\"], [0.3333333333333333, \"#9c179e\"], [0.4444444444444444, \"#bd3786\"], [0.5555555555555556, \"#d8576b\"], [0.6666666666666666, \"#ed7953\"], [0.7777777777777778, \"#fb9f3a\"], [0.8888888888888888, \"#fdca26\"], [1.0, \"#f0f921\"]]}, \"colorway\": [\"#636efa\", \"#EF553B\", \"#00cc96\", \"#ab63fa\", \"#FFA15A\", \"#19d3f3\", \"#FF6692\", \"#B6E880\", \"#FF97FF\", \"#FECB52\"], \"font\": {\"color\": \"#2a3f5f\"}, \"geo\": {\"bgcolor\": \"white\", \"lakecolor\": \"white\", \"landcolor\": \"#E5ECF6\", \"showlakes\": true, \"showland\": true, \"subunitcolor\": \"white\"}, \"hoverlabel\": {\"align\": \"left\"}, \"hovermode\": \"closest\", \"mapbox\": {\"style\": \"light\"}, \"paper_bgcolor\": \"white\", \"plot_bgcolor\": \"#E5ECF6\", \"polar\": {\"angularaxis\": {\"gridcolor\": \"white\", \"linecolor\": \"white\", \"ticks\": \"\"}, \"bgcolor\": \"#E5ECF6\", \"radialaxis\": {\"gridcolor\": \"white\", \"linecolor\": \"white\", \"ticks\": \"\"}}, \"scene\": {\"xaxis\": {\"backgroundcolor\": \"#E5ECF6\", \"gridcolor\": \"white\", \"gridwidth\": 2, \"linecolor\": \"white\", \"showbackground\": true, \"ticks\": \"\", \"zerolinecolor\": \"white\"}, \"yaxis\": {\"backgroundcolor\": \"#E5ECF6\", \"gridcolor\": \"white\", \"gridwidth\": 2, \"linecolor\": \"white\", \"showbackground\": true, \"ticks\": \"\", \"zerolinecolor\": \"white\"}, \"zaxis\": {\"backgroundcolor\": \"#E5ECF6\", \"gridcolor\": \"white\", \"gridwidth\": 2, \"linecolor\": \"white\", \"showbackground\": true, \"ticks\": \"\", \"zerolinecolor\": \"white\"}}, \"shapedefaults\": {\"line\": {\"color\": \"#2a3f5f\"}}, \"ternary\": {\"aaxis\": {\"gridcolor\": \"white\", \"linecolor\": \"white\", \"ticks\": \"\"}, \"baxis\": {\"gridcolor\": \"white\", \"linecolor\": \"white\", \"ticks\": \"\"}, \"bgcolor\": \"#E5ECF6\", \"caxis\": {\"gridcolor\": \"white\", \"linecolor\": \"white\", \"ticks\": \"\"}}, \"title\": {\"x\": 0.05}, \"xaxis\": {\"automargin\": true, \"gridcolor\": \"white\", \"linecolor\": \"white\", \"ticks\": \"\", \"title\": {\"standoff\": 15}, \"zerolinecolor\": \"white\", \"zerolinewidth\": 2}, \"yaxis\": {\"automargin\": true, \"gridcolor\": \"white\", \"linecolor\": \"white\", \"ticks\": \"\", \"title\": {\"standoff\": 15}, \"zerolinecolor\": \"white\", \"zerolinewidth\": 2}}}, \"width\": 700, \"xaxis\": {\"title\": {\"text\": \"Distance between Projection point and Calibration point\"}}, \"yaxis\": {\"title\": {\"text\": \"Distance between Projection point and Corresponding point\"}}},\n                        {\"responsive\": true}\n                    ).then(function(){\n                            \nvar gd = document.getElementById('bb55100e-6341-4577-ad9e-069b16ab945d');\nvar x = new MutationObserver(function (mutations, observer) {{\n        var display = window.getComputedStyle(gd).display;\n        if (!display || display === 'none') {{\n            console.log([gd, 'removed!']);\n            Plotly.purge(gd);\n            observer.disconnect();\n        }}\n}});\n\n// Listen for the removal of the full notebook cells\nvar notebookContainer = gd.closest('#notebook-container');\nif (notebookContainer) {{\n    x.observe(notebookContainer, {childList: true});\n}}\n\n// Listen for the clearing of the current output cell\nvar outputEl = gd.closest('.output');\nif (outputEl) {{\n    x.observe(outputEl, {childList: true});\n}}\n\n                        })\n                };\n                });\n            </script>\n        </div>"
     },
     "metadata": {},
     "output_type": "display_data"
    }
   ],
   "source": [
    "trace = go.Scatter(\n",
    "    x=nearest[\"distance\"],\n",
    "    y=rp_errors,\n",
    "    mode=\"markers\",\n",
    "    marker=dict(\n",
    "        size=7\n",
    "    )\n",
    ")\n",
    "\n",
    "layout = go.Layout(\n",
    "    xaxis=dict(title=\"Distance between Projection point and Calibration point\"),\n",
    "    yaxis=dict(title=\"Distance between Projection point and Corresponding point\"),\n",
    "    width=700,\n",
    "    height=700\n",
    ")\n",
    "\n",
    "fig = go.Figure(data=trace, layout=layout)\n",
    "plotly.offline.plot(fig, filename=\"plotly/scatter.html\")\n",
    "fig.show()"
   ],
   "metadata": {
    "collapsed": false,
    "pycharm": {
     "name": "#%%\n"
    }
   }
  },
  {
   "cell_type": "code",
   "execution_count": 43,
   "outputs": [],
   "source": [
    "\n"
   ],
   "metadata": {
    "collapsed": false,
    "pycharm": {
     "name": "#%%\n"
    }
   }
  }
 ],
 "metadata": {
  "kernelspec": {
   "display_name": "PyCharm (vision)",
   "language": "python",
   "name": "pycharm-721c642e"
  },
  "language_info": {
   "codemirror_mode": {
    "name": "ipython",
    "version": 3
   },
   "file_extension": ".py",
   "mimetype": "text/x-python",
   "name": "python",
   "nbconvert_exporter": "python",
   "pygments_lexer": "ipython3",
   "version": "3.7.4"
  }
 },
 "nbformat": 4,
 "nbformat_minor": 1
}