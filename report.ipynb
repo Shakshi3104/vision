{
 "cells": [
  {
   "cell_type": "markdown",
   "metadata": {
    "collapsed": true,
    "pycharm": {
     "name": "#%% md\n"
    }
   },
   "source": [
    "# 3D Information Processing\n",
    "Obtain a 3D shape from images taken by multiple cameras"
   ]
  },
  {
   "cell_type": "code",
   "execution_count": 1,
   "outputs": [],
   "source": [
    "import pandas as pd\n",
    "from camera import Camera\n",
    "from visualize import plot_calibration_points"
   ],
   "metadata": {
    "collapsed": false,
    "pycharm": {
     "name": "#%%\n"
    }
   }
  },
  {
   "cell_type": "markdown",
   "source": [
    "Load calibration points for each images"
   ],
   "metadata": {
    "collapsed": false,
    "pycharm": {
     "name": "#%% md\n"
    }
   }
  },
  {
   "cell_type": "code",
   "execution_count": 2,
   "outputs": [],
   "source": [
    "points_1 = pd.read_csv(\"points_1.csv\")\n",
    "points_2 = pd.read_csv(\"points_2.csv\")\n",
    "points_3 = pd.read_csv(\"points_3.csv\")"
   ],
   "metadata": {
    "collapsed": false,
    "pycharm": {
     "name": "#%%\n"
    }
   }
  },
  {
   "cell_type": "markdown",
   "source": [
    "Calibrate cameras from calibration points"
   ],
   "metadata": {
    "collapsed": false,
    "pycharm": {
     "name": "#%% md\n"
    }
   }
  },
  {
   "cell_type": "code",
   "execution_count": 3,
   "outputs": [],
   "source": [
    "c1 = Camera(points_1)\n",
    "c2 = Camera(points_2)\n",
    "c3 = Camera(points_3)"
   ],
   "metadata": {
    "collapsed": false,
    "pycharm": {
     "name": "#%%\n"
    }
   }
  },
  {
   "cell_type": "code",
   "execution_count": 4,
   "outputs": [
    {
     "name": "stdout",
     "output_type": "stream",
     "text": [
      "Calibrate camera...\n",
      "Perspective Projection Matrix\n",
      "[[-4.01166202e+01  2.69309121e+01 -2.45286091e+01  1.58043293e+03]\n",
      " [ 9.16710285e+00  8.81454884e-01 -5.16736803e+01  1.10996705e+03]\n",
      " [-1.38215069e-02 -6.82164706e-03 -1.24927871e-02  1.00000000e+00]]\n",
      "Calibrate camera...\n",
      "Perspective Projection Matrix\n",
      "[[-4.63724309e+01  2.01729221e+01 -2.09253541e+01  1.57730966e+03]\n",
      " [ 1.87923809e+00 -8.16812965e-01 -5.16188945e+01  1.06304087e+03]\n",
      " [-1.43705224e-02 -8.75475699e-03 -1.05012791e-02  1.00000000e+00]]\n",
      "Calibrate camera...\n",
      "Perspective Projection Matrix\n",
      "[[-4.57784751e+01  1.68717312e+01 -2.64678054e+01  1.66781077e+03]\n",
      " [ 1.17659335e+01  7.14988008e+00 -4.85031209e+01  8.86641441e+02]\n",
      " [-1.14629726e-02 -8.62416880e-03 -1.34705241e-02  1.00000000e+00]]\n"
     ]
    }
   ],
   "source": [
    "c1.calibrate()\n",
    "c2.calibrate()\n",
    "c3.calibrate()"
   ],
   "metadata": {
    "collapsed": false,
    "pycharm": {
     "name": "#%%\n"
    }
   }
  },
  {
   "cell_type": "markdown",
   "source": [
    "Validate perspective projection matrix by other points"
   ],
   "metadata": {
    "collapsed": false,
    "pycharm": {
     "name": "#%% md\n"
    }
   }
  },
  {
   "cell_type": "code",
   "execution_count": 5,
   "outputs": [],
   "source": [
    "points_valid = pd.read_csv(\"points_1_valid.csv\")\n",
    "pred_u = []\n",
    "pred_v = []\n",
    "for row in points_valid.itertuples():\n",
    "    u_, v_ = c1.perspective_project(row[3], row[4], row[5])\n",
    "    pred_u += [u_]\n",
    "    pred_v += [v_]\n",
    "\n",
    "predict = pd.DataFrame({\"u\": pred_u, \"v\": pred_v,\n",
    "                        \"x\": points_valid[\"x\"],\n",
    "                        \"y\": points_valid[\"y\"],\n",
    "                        \"z\": points_valid[\"z\"]})\n",
    "\n",
    "predict[\"u\"] = predict[\"u\"].astype(int)\n",
    "predict[\"v\"] = predict[\"v\"].astype(int)\n",
    "\n",
    "plot_calibration_points(\"data/1.JPG\", \"data/1_pred.JPG\", points_valid)\n",
    "plot_calibration_points(\"data/1_pred.JPG\", \"data/1_pred.JPG\",\n",
    "                        predict, color=(0, 0, 230))"
   ],
   "metadata": {
    "collapsed": false,
    "pycharm": {
     "name": "#%%\n"
    }
   }
  },
  {
   "cell_type": "markdown",
   "source": [
    "Re-project calibration points"
   ],
   "metadata": {
    "collapsed": false,
    "pycharm": {
     "name": "#%% md\n"
    }
   }
  },
  {
   "cell_type": "code",
   "source": [
    "c1.re_project()\n",
    "\n",
    "plot_calibration_points(\"data/1.JPG\", \"data/1_reproject.JPG\",\n",
    "                        c1.point_for_calibration)\n",
    "plot_calibration_points(\"data/1_reproject.JPG\", \"data/1_reproject.JPG\",\n",
    "                        c1.points_of_reprojection,\n",
    "                        color=(0, 0, 230))\n",
    "reprojection_error = c1.re_projection_error()\n",
    "reprojection_error"
   ],
   "metadata": {
    "collapsed": false,
    "pycharm": {
     "name": "#%%\n"
    }
   },
   "execution_count": 6,
   "outputs": [
    {
     "data": {
      "text/plain": "96.04444176845362"
     },
     "execution_count": 6,
     "metadata": {},
     "output_type": "execute_result"
    }
   ]
  },
  {
   "cell_type": "code",
   "execution_count": 6,
   "outputs": [],
   "source": [
    "\n"
   ],
   "metadata": {
    "collapsed": false,
    "pycharm": {
     "name": "#%%\n"
    }
   }
  }
 ],
 "metadata": {
  "kernelspec": {
   "name": "pycharm-721c642e",
   "language": "python",
   "display_name": "PyCharm (vision)"
  },
  "language_info": {
   "codemirror_mode": {
    "name": "ipython",
    "version": 2
   },
   "file_extension": ".py",
   "mimetype": "text/x-python",
   "name": "python",
   "nbconvert_exporter": "python",
   "pygments_lexer": "ipython2",
   "version": "2.7.6"
  },
  "pycharm": {
   "stem_cell": {
    "cell_type": "raw",
    "source": [
     "# https://blog.jetbrains.com/ja/2019/11/30/2396/"
    ],
    "metadata": {
     "collapsed": false
    }
   }
  }
 },
 "nbformat": 4,
 "nbformat_minor": 0
}