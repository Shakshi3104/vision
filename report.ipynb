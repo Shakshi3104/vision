{
 "cells": [
  {
   "cell_type": "markdown",
   "metadata": {
    "collapsed": true,
    "pycharm": {
     "name": "#%% md\n"
    }
   },
   "source": [
    "# 3D Information Processing\n",
    "Obtain a 3D shape from images taken by multiple cameras"
   ]
  },
  {
   "cell_type": "code",
   "execution_count": 1,
   "outputs": [],
   "source": [
    "import pandas as pd\n",
    "from camera import Camera\n",
    "from stereo import Stereo\n",
    "from visualize import plot_calibration_points"
   ],
   "metadata": {
    "collapsed": false,
    "pycharm": {
     "name": "#%%\n"
    }
   }
  },
  {
   "cell_type": "markdown",
   "source": [
    "Load calibration points for each images"
   ],
   "metadata": {
    "collapsed": false,
    "pycharm": {
     "name": "#%% md\n"
    }
   }
  },
  {
   "cell_type": "code",
   "execution_count": 2,
   "outputs": [],
   "source": [
    "points_1 = pd.read_csv(\"points/points_1.csv\")\n",
    "points_2 = pd.read_csv(\"points/points_2.csv\")\n",
    "points_3 = pd.read_csv(\"points/points_3.csv\")"
   ],
   "metadata": {
    "collapsed": false,
    "pycharm": {
     "name": "#%%\n"
    }
   }
  },
  {
   "cell_type": "markdown",
   "source": [
    "Plot calibration points"
   ],
   "metadata": {
    "collapsed": false,
    "pycharm": {
     "name": "#%% md\n"
    }
   }
  },
  {
   "cell_type": "code",
   "execution_count": 3,
   "outputs": [],
   "source": [
    "plot_calibration_points(\"data/1.JPG\", \"data/1_plotted.JPG\", points_1)\n",
    "plot_calibration_points(\"data/2.JPG\", \"data/2_plotted.JPG\", points_2)\n",
    "plot_calibration_points(\"data/3.JPG\", \"data/3_plotted.JPG\", points_3)"
   ],
   "metadata": {
    "collapsed": false,
    "pycharm": {
     "name": "#%%\n"
    }
   }
  },
  {
   "cell_type": "markdown",
   "source": [
    "### 1. Obtain perspective projection matrix\n",
    "\n",
    "Calibrate cameras from calibration points"
   ],
   "metadata": {
    "collapsed": false,
    "pycharm": {
     "name": "#%% md\n"
    }
   }
  },
  {
   "cell_type": "code",
   "execution_count": 4,
   "outputs": [],
   "source": [
    "c1 = Camera(points_1)\n",
    "c2 = Camera(points_2)\n",
    "c3 = Camera(points_3)"
   ],
   "metadata": {
    "collapsed": false,
    "pycharm": {
     "name": "#%%\n"
    }
   }
  },
  {
   "cell_type": "code",
   "execution_count": 5,
   "outputs": [
    {
     "name": "stdout",
     "output_type": "stream",
     "text": [
      "Calibrate camera...\n",
      "Perspective Projection Matrix\n",
      "[[-4.05412297e+01  4.03725932e+01 -2.20953401e+01  1.57180272e+03]\n",
      " [ 1.46741972e+01  5.29694456e+00 -5.53211850e+01  1.11837795e+03]\n",
      " [-1.17373954e-02 -4.11469771e-03 -1.11584529e-02  1.00000000e+00]]\n",
      "Calibrate camera...\n",
      "Perspective Projection Matrix\n",
      "[[-4.75848755e+01  3.16342338e+01 -1.80047358e+01  1.58283552e+03]\n",
      " [ 6.04330571e+00  2.71247349e+00 -5.57989173e+01  1.08335787e+03]\n",
      " [-1.20918587e-02 -6.46704780e-03 -8.86434477e-03  1.00000000e+00]]\n",
      "Calibrate camera...\n",
      "Perspective Projection Matrix\n",
      "[[-4.68468219e+01  2.77961801e+01 -2.39493487e+01  1.67369448e+03]\n",
      " [ 1.67609536e+01  1.20751963e+01 -5.18018979e+01  8.89834552e+02]\n",
      " [-8.88890611e-03 -6.40756403e-03 -1.20972384e-02  1.00000000e+00]]\n"
     ]
    }
   ],
   "source": [
    "c1.calibrate()\n",
    "c2.calibrate()\n",
    "c3.calibrate()"
   ],
   "metadata": {
    "collapsed": false,
    "pycharm": {
     "name": "#%%\n"
    }
   }
  },
  {
   "cell_type": "markdown",
   "source": [
    "Validate perspective projection matrix by other points"
   ],
   "metadata": {
    "collapsed": false,
    "pycharm": {
     "name": "#%% md\n"
    }
   }
  },
  {
   "cell_type": "code",
   "execution_count": 6,
   "outputs": [],
   "source": [
    "points_valid = pd.read_csv(\"points/points_1_valid.csv\")\n",
    "pred_u = []\n",
    "pred_v = []\n",
    "for row in points_valid.itertuples():\n",
    "    u_, v_ = c1.perspective_project(row[3], row[4], row[5])\n",
    "    pred_u += [u_]\n",
    "    pred_v += [v_]\n",
    "\n",
    "predict = pd.DataFrame({\"u\": pred_u, \"v\": pred_v,\n",
    "                        \"x\": points_valid[\"x\"],\n",
    "                        \"y\": points_valid[\"y\"],\n",
    "                        \"z\": points_valid[\"z\"]})\n",
    "\n",
    "predict[\"u\"] = predict[\"u\"].astype(int)\n",
    "predict[\"v\"] = predict[\"v\"].astype(int)\n",
    "\n",
    "plot_calibration_points(\"data/1.JPG\", \"data/1_pred.JPG\", points_valid)\n",
    "plot_calibration_points(\"data/1_pred.JPG\", \"data/1_pred.JPG\",\n",
    "                        predict, color=(0, 0, 230))"
   ],
   "metadata": {
    "collapsed": false,
    "pycharm": {
     "name": "#%%\n"
    }
   }
  },
  {
   "cell_type": "markdown",
   "source": [
    "Re-project calibration points"
   ],
   "metadata": {
    "collapsed": false,
    "pycharm": {
     "name": "#%% md\n"
    }
   }
  },
  {
   "cell_type": "code",
   "source": [
    "c1.re_project()\n",
    "\n",
    "plot_calibration_points(\"data/1.JPG\", \"data/1_reproject.JPG\",\n",
    "                        c1.points_for_calibration)\n",
    "plot_calibration_points(\"data/1_reproject.JPG\", \"data/1_reproject.JPG\",\n",
    "                        c1.points_of_reprojection,\n",
    "                        color=(0, 0, 230))\n",
    "reprojection_error = c1.re_projection_error()\n",
    "reprojection_error"
   ],
   "metadata": {
    "collapsed": false,
    "pycharm": {
     "name": "#%%\n"
    }
   },
   "execution_count": 7,
   "outputs": [
    {
     "data": {
      "text/plain": "6.332554156756919"
     },
     "execution_count": 7,
     "metadata": {},
     "output_type": "execute_result"
    }
   ]
  },
  {
   "cell_type": "code",
   "execution_count": 8,
   "outputs": [
    {
     "data": {
      "text/plain": "5.146138217502861"
     },
     "execution_count": 8,
     "metadata": {},
     "output_type": "execute_result"
    }
   ],
   "source": [
    "c2.re_project()\n",
    "\n",
    "plot_calibration_points(\"data/2.JPG\", \"data/2_reproject.JPG\",\n",
    "                        c2.points_for_calibration)\n",
    "plot_calibration_points(\"data/2_reproject.JPG\", \"data/2_reproject.JPG\",\n",
    "                        c2.points_of_reprojection,\n",
    "                        color=(0, 0, 230))\n",
    "\n",
    "reprojection_error = c2.re_projection_error()\n",
    "reprojection_error"
   ],
   "metadata": {
    "collapsed": false,
    "pycharm": {
     "name": "#%%\n"
    }
   }
  },
  {
   "cell_type": "code",
   "execution_count": 9,
   "outputs": [
    {
     "data": {
      "text/plain": "5.419570702840029"
     },
     "execution_count": 9,
     "metadata": {},
     "output_type": "execute_result"
    }
   ],
   "source": [
    "c3.re_project()\n",
    "\n",
    "plot_calibration_points(\"data/3.JPG\", \"data/3_reproject.JPG\",\n",
    "                        c3.points_for_calibration)\n",
    "plot_calibration_points(\"data/3_reproject.JPG\", \"data/3_reproject.JPG\",\n",
    "                        c3.points_of_reprojection,\n",
    "                        color=(0, 0, 230))\n",
    "\n",
    "reprojection_error = c3.re_projection_error()\n",
    "reprojection_error"
   ],
   "metadata": {
    "collapsed": false,
    "pycharm": {
     "name": "#%%\n"
    }
   }
  },
  {
   "cell_type": "markdown",
   "source": [
    "### 2. Obtain 3D points from 2 images\n",
    "\n",
    "Obtain 3D points from 2 images"
   ],
   "metadata": {
    "collapsed": false
   }
  },
  {
   "cell_type": "code",
   "execution_count": 10,
   "outputs": [
    {
     "name": "stdout",
     "output_type": "stream",
     "text": [
      "(X, Y, Z) =  [25.46853018 16.45891675  0.27088423]\n",
      "(X, Y, Z) =  [24.74322514 17.17460602  0.21459361]\n",
      "(X, Y, Z) =  [21.9623529  20.02167334  0.32099857]\n",
      "(X, Y, Z) =  [19.91808882 22.15987022  0.38459758]\n",
      "(X, Y, Z) =  [16.4237593  25.69960559  0.35387484]\n",
      "(X, Y, Z) =  [5.25763004 7.23655657 9.16204878]\n",
      "(X, Y, Z) =  [10.59512338  5.50404891  9.27484466]\n",
      "(X, Y, Z) =  [9.37281706 8.25184944 9.13307199]\n",
      "(X, Y, Z) =  [ 8.15256931 11.08960475  9.13429177]\n",
      "(X, Y, Z) =  [4.45047282 9.9362386  9.156412  ]\n",
      "(X, Y, Z) =  [11.59571684  6.51458292  2.8439244 ]\n",
      "(X, Y, Z) =  [10.64963668 10.55205759  6.59275462]\n",
      "(X, Y, Z) =  [11.65461478  6.63672553  6.33230488]\n",
      "(X, Y, Z) =  [ 9.52752728 11.54604342  8.79831639]\n",
      "(X, Y, Z) =  [ 9.39823315 11.52663161  2.80247845]\n",
      "(X, Y, Z) =  [13.09258375 17.84186136  6.14589095]\n",
      "(X, Y, Z) =  [15.30964117 17.3783268   1.98313607]\n",
      "(X, Y, Z) =  [13.30651068 21.42861199  2.55998543]\n",
      "(X, Y, Z) =  [18.57716264 12.74336519  6.16123568]\n",
      "(X, Y, Z) =  [ 8.38610995 27.03306098  9.00976452]\n"
     ]
    }
   ],
   "source": [
    "points12 = pd.read_csv(\"points/points_1_2.csv\")\n",
    "s = Stereo(c1, c2, points12)\n",
    "s.obtain_objects_points_by_stereo()"
   ],
   "metadata": {
    "collapsed": false,
    "pycharm": {
     "name": "#%%\n"
    }
   }
  },
  {
   "cell_type": "code",
   "execution_count": 11,
   "outputs": [
    {
     "data": {
      "text/plain": "            X          Y         Z\n0   25.468530  16.458917  0.270884\n1   24.743225  17.174606  0.214594\n2   21.962353  20.021673  0.320999\n3   19.918089  22.159870  0.384598\n4   16.423759  25.699606  0.353875\n5    5.257630   7.236557  9.162049\n6   10.595123   5.504049  9.274845\n7    9.372817   8.251849  9.133072\n8    8.152569  11.089605  9.134292\n9    4.450473   9.936239  9.156412\n10  11.595717   6.514583  2.843924\n11  10.649637  10.552058  6.592755\n12  11.654615   6.636726  6.332305\n13   9.527527  11.546043  8.798316\n14   9.398233  11.526632  2.802478\n15  13.092584  17.841861  6.145891\n16  15.309641  17.378327  1.983136\n17  13.306511  21.428612  2.559985\n18  18.577163  12.743365  6.161236\n19   8.386110  27.033061  9.009765",
      "text/html": "<div>\n<style scoped>\n    .dataframe tbody tr th:only-of-type {\n        vertical-align: middle;\n    }\n\n    .dataframe tbody tr th {\n        vertical-align: top;\n    }\n\n    .dataframe thead th {\n        text-align: right;\n    }\n</style>\n<table border=\"1\" class=\"dataframe\">\n  <thead>\n    <tr style=\"text-align: right;\">\n      <th></th>\n      <th>X</th>\n      <th>Y</th>\n      <th>Z</th>\n    </tr>\n  </thead>\n  <tbody>\n    <tr>\n      <td>0</td>\n      <td>25.468530</td>\n      <td>16.458917</td>\n      <td>0.270884</td>\n    </tr>\n    <tr>\n      <td>1</td>\n      <td>24.743225</td>\n      <td>17.174606</td>\n      <td>0.214594</td>\n    </tr>\n    <tr>\n      <td>2</td>\n      <td>21.962353</td>\n      <td>20.021673</td>\n      <td>0.320999</td>\n    </tr>\n    <tr>\n      <td>3</td>\n      <td>19.918089</td>\n      <td>22.159870</td>\n      <td>0.384598</td>\n    </tr>\n    <tr>\n      <td>4</td>\n      <td>16.423759</td>\n      <td>25.699606</td>\n      <td>0.353875</td>\n    </tr>\n    <tr>\n      <td>5</td>\n      <td>5.257630</td>\n      <td>7.236557</td>\n      <td>9.162049</td>\n    </tr>\n    <tr>\n      <td>6</td>\n      <td>10.595123</td>\n      <td>5.504049</td>\n      <td>9.274845</td>\n    </tr>\n    <tr>\n      <td>7</td>\n      <td>9.372817</td>\n      <td>8.251849</td>\n      <td>9.133072</td>\n    </tr>\n    <tr>\n      <td>8</td>\n      <td>8.152569</td>\n      <td>11.089605</td>\n      <td>9.134292</td>\n    </tr>\n    <tr>\n      <td>9</td>\n      <td>4.450473</td>\n      <td>9.936239</td>\n      <td>9.156412</td>\n    </tr>\n    <tr>\n      <td>10</td>\n      <td>11.595717</td>\n      <td>6.514583</td>\n      <td>2.843924</td>\n    </tr>\n    <tr>\n      <td>11</td>\n      <td>10.649637</td>\n      <td>10.552058</td>\n      <td>6.592755</td>\n    </tr>\n    <tr>\n      <td>12</td>\n      <td>11.654615</td>\n      <td>6.636726</td>\n      <td>6.332305</td>\n    </tr>\n    <tr>\n      <td>13</td>\n      <td>9.527527</td>\n      <td>11.546043</td>\n      <td>8.798316</td>\n    </tr>\n    <tr>\n      <td>14</td>\n      <td>9.398233</td>\n      <td>11.526632</td>\n      <td>2.802478</td>\n    </tr>\n    <tr>\n      <td>15</td>\n      <td>13.092584</td>\n      <td>17.841861</td>\n      <td>6.145891</td>\n    </tr>\n    <tr>\n      <td>16</td>\n      <td>15.309641</td>\n      <td>17.378327</td>\n      <td>1.983136</td>\n    </tr>\n    <tr>\n      <td>17</td>\n      <td>13.306511</td>\n      <td>21.428612</td>\n      <td>2.559985</td>\n    </tr>\n    <tr>\n      <td>18</td>\n      <td>18.577163</td>\n      <td>12.743365</td>\n      <td>6.161236</td>\n    </tr>\n    <tr>\n      <td>19</td>\n      <td>8.386110</td>\n      <td>27.033061</td>\n      <td>9.009765</td>\n    </tr>\n  </tbody>\n</table>\n</div>"
     },
     "execution_count": 11,
     "metadata": {},
     "output_type": "execute_result"
    }
   ],
   "source": [
    "s.points_of_objects"
   ],
   "metadata": {
    "collapsed": false,
    "pycharm": {
     "name": "#%%\n"
    }
   }
  },
  {
   "cell_type": "markdown",
   "source": [
    "Re-project from obatined 3D points"
   ],
   "metadata": {
    "collapsed": false,
    "pycharm": {
     "name": "#%% md\n"
    }
   }
  },
  {
   "cell_type": "code",
   "execution_count": 12,
   "outputs": [],
   "source": [
    "points_1_ = pd.DataFrame({\"u\": points12[\"u1\"], \"v\": points12[\"v1\"],\n",
    "                          \"x\": s.points_of_objects[\"X\"],\n",
    "                          \"y\": s.points_of_objects[\"Y\"],\n",
    "                          \"z\": s.points_of_objects[\"Z\"]})\n",
    "points_2_ = pd.DataFrame({\"u\": points12[\"u2\"], \"v\": points12[\"v2\"],\n",
    "                          \"x\": s.points_of_objects[\"X\"],\n",
    "                          \"y\": s.points_of_objects[\"Y\"],\n",
    "                          \"z\": s.points_of_objects[\"Z\"]})"
   ],
   "metadata": {
    "collapsed": false,
    "pycharm": {
     "name": "#%%\n"
    }
   }
  },
  {
   "cell_type": "code",
   "execution_count": 13,
   "outputs": [
    {
     "data": {
      "text/plain": "       u     v          x          y         z\n0   1900  2481  25.468530  16.458917  0.270884\n1   1975  2451  24.743225  17.174606  0.214594\n2   2259  2329  21.962353  20.021673  0.320999\n3   2460  2246  19.918089  22.159870  0.384598\n4   2775  2115  16.423759  25.699606  0.353875\n5   1796   901   5.257630   7.236557  9.162049\n6   1547  1053  10.595123   5.504049  9.274845\n7   1754  1053   9.372817   8.251849  9.133072\n8   1965  1045   8.152569  11.089605  9.134292\n9   1976   906   4.450473   9.936239  9.156412\n10  1616  1447  11.595717   6.514583  2.843924\n11  1873  1274  10.649637  10.552058  6.592755\n12  1603  1273  11.654615   6.636726  6.332305\n13  1962  1121   9.527527  11.546043  8.798316\n14  1965  1433   9.398233  11.526632  2.802478\n15  2307  1512  13.092584  17.841861  6.145891\n16  2214  1823  15.309641  17.378327  1.983136\n17  2531  1768  13.306511  21.428612  2.559985\n18  1811  1691  18.577163  12.743365  6.161236\n19  3079  1284   8.386110  27.033061  9.009765",
      "text/html": "<div>\n<style scoped>\n    .dataframe tbody tr th:only-of-type {\n        vertical-align: middle;\n    }\n\n    .dataframe tbody tr th {\n        vertical-align: top;\n    }\n\n    .dataframe thead th {\n        text-align: right;\n    }\n</style>\n<table border=\"1\" class=\"dataframe\">\n  <thead>\n    <tr style=\"text-align: right;\">\n      <th></th>\n      <th>u</th>\n      <th>v</th>\n      <th>x</th>\n      <th>y</th>\n      <th>z</th>\n    </tr>\n  </thead>\n  <tbody>\n    <tr>\n      <td>0</td>\n      <td>1900</td>\n      <td>2481</td>\n      <td>25.468530</td>\n      <td>16.458917</td>\n      <td>0.270884</td>\n    </tr>\n    <tr>\n      <td>1</td>\n      <td>1975</td>\n      <td>2451</td>\n      <td>24.743225</td>\n      <td>17.174606</td>\n      <td>0.214594</td>\n    </tr>\n    <tr>\n      <td>2</td>\n      <td>2259</td>\n      <td>2329</td>\n      <td>21.962353</td>\n      <td>20.021673</td>\n      <td>0.320999</td>\n    </tr>\n    <tr>\n      <td>3</td>\n      <td>2460</td>\n      <td>2246</td>\n      <td>19.918089</td>\n      <td>22.159870</td>\n      <td>0.384598</td>\n    </tr>\n    <tr>\n      <td>4</td>\n      <td>2775</td>\n      <td>2115</td>\n      <td>16.423759</td>\n      <td>25.699606</td>\n      <td>0.353875</td>\n    </tr>\n    <tr>\n      <td>5</td>\n      <td>1796</td>\n      <td>901</td>\n      <td>5.257630</td>\n      <td>7.236557</td>\n      <td>9.162049</td>\n    </tr>\n    <tr>\n      <td>6</td>\n      <td>1547</td>\n      <td>1053</td>\n      <td>10.595123</td>\n      <td>5.504049</td>\n      <td>9.274845</td>\n    </tr>\n    <tr>\n      <td>7</td>\n      <td>1754</td>\n      <td>1053</td>\n      <td>9.372817</td>\n      <td>8.251849</td>\n      <td>9.133072</td>\n    </tr>\n    <tr>\n      <td>8</td>\n      <td>1965</td>\n      <td>1045</td>\n      <td>8.152569</td>\n      <td>11.089605</td>\n      <td>9.134292</td>\n    </tr>\n    <tr>\n      <td>9</td>\n      <td>1976</td>\n      <td>906</td>\n      <td>4.450473</td>\n      <td>9.936239</td>\n      <td>9.156412</td>\n    </tr>\n    <tr>\n      <td>10</td>\n      <td>1616</td>\n      <td>1447</td>\n      <td>11.595717</td>\n      <td>6.514583</td>\n      <td>2.843924</td>\n    </tr>\n    <tr>\n      <td>11</td>\n      <td>1873</td>\n      <td>1274</td>\n      <td>10.649637</td>\n      <td>10.552058</td>\n      <td>6.592755</td>\n    </tr>\n    <tr>\n      <td>12</td>\n      <td>1603</td>\n      <td>1273</td>\n      <td>11.654615</td>\n      <td>6.636726</td>\n      <td>6.332305</td>\n    </tr>\n    <tr>\n      <td>13</td>\n      <td>1962</td>\n      <td>1121</td>\n      <td>9.527527</td>\n      <td>11.546043</td>\n      <td>8.798316</td>\n    </tr>\n    <tr>\n      <td>14</td>\n      <td>1965</td>\n      <td>1433</td>\n      <td>9.398233</td>\n      <td>11.526632</td>\n      <td>2.802478</td>\n    </tr>\n    <tr>\n      <td>15</td>\n      <td>2307</td>\n      <td>1512</td>\n      <td>13.092584</td>\n      <td>17.841861</td>\n      <td>6.145891</td>\n    </tr>\n    <tr>\n      <td>16</td>\n      <td>2214</td>\n      <td>1823</td>\n      <td>15.309641</td>\n      <td>17.378327</td>\n      <td>1.983136</td>\n    </tr>\n    <tr>\n      <td>17</td>\n      <td>2531</td>\n      <td>1768</td>\n      <td>13.306511</td>\n      <td>21.428612</td>\n      <td>2.559985</td>\n    </tr>\n    <tr>\n      <td>18</td>\n      <td>1811</td>\n      <td>1691</td>\n      <td>18.577163</td>\n      <td>12.743365</td>\n      <td>6.161236</td>\n    </tr>\n    <tr>\n      <td>19</td>\n      <td>3079</td>\n      <td>1284</td>\n      <td>8.386110</td>\n      <td>27.033061</td>\n      <td>9.009765</td>\n    </tr>\n  </tbody>\n</table>\n</div>"
     },
     "execution_count": 13,
     "metadata": {},
     "output_type": "execute_result"
    }
   ],
   "source": [
    "re_points_1_ = c1.perspective_project_points(points_1_)\n",
    "re_points_2_ = c2.perspective_project_points(points_2_)\n",
    "re_points_1_"
   ],
   "metadata": {
    "collapsed": false,
    "pycharm": {
     "name": "#%%\n"
    }
   }
  },
  {
   "cell_type": "code",
   "execution_count": 14,
   "outputs": [],
   "source": [
    "plot_calibration_points(\"data/1.JPG\", \"data/1_stereo_reproject.JPG\", points_1_)\n",
    "plot_calibration_points(\"data/1_stereo_reproject.JPG\", \"data/1_stereo_reproject.JPG\",\n",
    "                        re_points_1_, color=(0, 0, 230))\n",
    "\n",
    "plot_calibration_points(\"data/2.JPG\", \"data/2_stereo_reproject.JPG\", points_2_)\n",
    "plot_calibration_points(\"data/2_stereo_reproject.JPG\", \"data/2_stereo_reproject.JPG\",\n",
    "                        re_points_2_, color=(0, 0, 230))\n"
   ],
   "metadata": {
    "collapsed": false,
    "pycharm": {
     "name": "#%%\n"
    }
   }
  },
  {
   "cell_type": "code",
   "execution_count": 14,
   "outputs": [],
   "source": [
    "\n"
   ],
   "metadata": {
    "collapsed": false,
    "pycharm": {
     "name": "#%%\n"
    }
   }
  }
 ],
 "metadata": {
  "kernelspec": {
   "name": "pycharm-721c642e",
   "language": "python",
   "display_name": "PyCharm (vision)"
  },
  "language_info": {
   "codemirror_mode": {
    "name": "ipython",
    "version": 2
   },
   "file_extension": ".py",
   "mimetype": "text/x-python",
   "name": "python",
   "nbconvert_exporter": "python",
   "pygments_lexer": "ipython2",
   "version": "2.7.6"
  }
 },
 "nbformat": 4,
 "nbformat_minor": 0
}