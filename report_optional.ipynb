{
 "cells": [
  {
   "cell_type": "markdown",
   "source": [
    "# 3D Information Processing\n",
    "Obtain a 3D shape from images taken by multiple cameras"
   ],
   "metadata": {
    "collapsed": false
   }
  },
  {
   "cell_type": "code",
   "execution_count": 7,
   "outputs": [
    {
     "name": "stdout",
     "output_type": "stream",
     "text": [
      "The autoreload extension is already loaded. To reload it, use:\n",
      "  %reload_ext autoreload\n"
     ]
    }
   ],
   "source": [
    "%load_ext autoreload\n",
    "%autoreload 2"
   ],
   "metadata": {
    "collapsed": false,
    "pycharm": {
     "name": "#%%\n"
    }
   }
  },
  {
   "cell_type": "code",
   "execution_count": 8,
   "outputs": [],
   "source": [
    "import pandas as pd\n",
    "import numpy as np\n",
    "from camera import Camera\n",
    "from stereo import Stereo\n",
    "from visualize import plot_calibration_points"
   ],
   "metadata": {
    "collapsed": false,
    "pycharm": {
     "name": "#%%\n"
    }
   }
  },
  {
   "cell_type": "code",
   "execution_count": 9,
   "outputs": [],
   "source": [
    "# 指数表記にしない\n",
    "np.set_printoptions(suppress=True)"
   ],
   "metadata": {
    "collapsed": false,
    "pycharm": {
     "name": "#%%\n"
    }
   }
  },
  {
   "cell_type": "markdown",
   "source": [
    "Calibrate cameras from calibration points"
   ],
   "metadata": {
    "collapsed": false
   }
  },
  {
   "cell_type": "code",
   "execution_count": 10,
   "outputs": [],
   "source": [
    "points_1 = pd.read_csv(\"points/points_1.csv\")\n",
    "points_2 = pd.read_csv(\"points/points_2.csv\")\n",
    "points_3 = pd.read_csv(\"points/points_3.csv\")"
   ],
   "metadata": {
    "collapsed": false,
    "pycharm": {
     "name": "#%%\n"
    }
   }
  },
  {
   "cell_type": "code",
   "source": [
    "c1 = Camera(points_1)\n",
    "c2 = Camera(points_2)\n",
    "c3 = Camera(points_3)\n",
    "\n",
    "c1.calibrate()\n",
    "c2.calibrate()\n",
    "c3.calibrate()"
   ],
   "metadata": {
    "collapsed": false,
    "pycharm": {
     "name": "#%%\n"
    }
   },
   "execution_count": 11,
   "outputs": [
    {
     "name": "stdout",
     "output_type": "stream",
     "text": [
      "Calibrate camera...\n",
      "Perspective Projection Matrix\n",
      "[[ -40.54122968   40.37259325  -22.09534006 1571.80271692]\n",
      " [  14.67419715    5.29694456  -55.32118497 1118.37794573]\n",
      " [  -0.0117374    -0.0041147    -0.01115845    1.        ]]\n",
      "Calibrate camera...\n",
      "Perspective Projection Matrix\n",
      "[[ -47.5848755    31.63423375  -18.0047358  1582.83552373]\n",
      " [   6.04330571    2.71247349  -55.79891734 1083.35787306]\n",
      " [  -0.01209186   -0.00646705   -0.00886434    1.        ]]\n",
      "Calibrate camera...\n",
      "Perspective Projection Matrix\n",
      "[[ -46.84682189   27.79618015  -23.94934871 1673.69448202]\n",
      " [  16.76095364   12.07519625  -51.80189787  889.83455189]\n",
      " [  -0.00888891   -0.00640756   -0.01209724    1.        ]]\n"
     ]
    }
   ]
  },
  {
   "cell_type": "markdown",
   "source": [
    "## Optional\n",
    "### 7. Plot the obtained shape in 3D"
   ],
   "metadata": {
    "collapsed": false,
    "pycharm": {
     "name": "#%% md\n"
    }
   }
  },
  {
   "cell_type": "code",
   "execution_count": 12,
   "outputs": [],
   "source": [
    "import plotly.offline\n",
    "import plotly.graph_objects as go"
   ],
   "metadata": {
    "collapsed": false,
    "pycharm": {
     "name": "#%%\n"
    }
   }
  },
  {
   "cell_type": "code",
   "execution_count": 13,
   "outputs": [
    {
     "data": {
      "text/html": "        <script type=\"text/javascript\">\n        window.PlotlyConfig = {MathJaxConfig: 'local'};\n        if (window.MathJax) {MathJax.Hub.Config({SVG: {font: \"STIX-Web\"}});}\n        if (typeof require !== 'undefined') {\n        require.undef(\"plotly\");\n        requirejs.config({\n            paths: {\n                'plotly': ['https://cdn.plot.ly/plotly-latest.min']\n            }\n        });\n        require(['plotly'], function(Plotly) {\n            window._Plotly = Plotly;\n        });\n        }\n        </script>\n        "
     },
     "metadata": {},
     "output_type": "display_data"
    }
   ],
   "source": [
    "plotly.offline.init_notebook_mode(connected=True)"
   ],
   "metadata": {
    "collapsed": false,
    "pycharm": {
     "name": "#%%\n"
    }
   }
  },
  {
   "cell_type": "markdown",
   "source": [
    "##### New Stereo for plotting"
   ],
   "metadata": {
    "collapsed": false
   }
  },
  {
   "cell_type": "code",
   "execution_count": 14,
   "outputs": [
    {
     "name": "stdout",
     "output_type": "stream",
     "text": [
      "(X, Y, Z) =  [25.46853018 16.45891675  0.27088423]\n",
      "(X, Y, Z) =  [24.74322514 17.17460602  0.21459361]\n",
      "(X, Y, Z) =  [21.9623529  20.02167334  0.32099857]\n",
      "(X, Y, Z) =  [19.91808882 22.15987022  0.38459758]\n",
      "(X, Y, Z) =  [16.4237593  25.69960559  0.35387484]\n",
      "(X, Y, Z) =  [5.25763004 7.23655657 9.16204878]\n",
      "(X, Y, Z) =  [10.59512338  5.50404891  9.27484466]\n",
      "(X, Y, Z) =  [9.37281706 8.25184944 9.13307199]\n",
      "(X, Y, Z) =  [ 8.15256931 11.08960475  9.13429177]\n",
      "(X, Y, Z) =  [4.45047282 9.9362386  9.156412  ]\n",
      "(X, Y, Z) =  [11.59571684  6.51458292  2.8439244 ]\n",
      "(X, Y, Z) =  [10.64963668 10.55205759  6.59275462]\n",
      "(X, Y, Z) =  [11.65461478  6.63672553  6.33230488]\n",
      "(X, Y, Z) =  [ 9.52752728 11.54604342  8.79831639]\n",
      "(X, Y, Z) =  [ 9.39823315 11.52663161  2.80247845]\n",
      "(X, Y, Z) =  [13.09258375 17.84186136  6.14589095]\n",
      "(X, Y, Z) =  [15.30964117 17.3783268   1.98313607]\n",
      "(X, Y, Z) =  [13.30651068 21.42861199  2.55998543]\n",
      "(X, Y, Z) =  [18.57716264 12.74336519  6.16123568]\n",
      "(X, Y, Z) =  [ 8.38610995 27.03306098  9.00976452]\n",
      "(X, Y, Z) =  [ 8.30885209 26.99749461  9.95360313]\n",
      "(X, Y, Z) =  [ 6.18827129 24.84770509  9.97815721]\n",
      "(X, Y, Z) =  [ 3.94697572 27.05555636  9.95208618]\n",
      "(X, Y, Z) =  [ 6.19303014 29.20516148  9.96945421]\n",
      "(X, Y, Z) =  [ 8.38290078 27.02880357  8.04692612]\n",
      "(X, Y, Z) =  [ 8.30078398 27.07065259  5.83417544]\n",
      "(X, Y, Z) =  [ 8.48900689 27.00221003  4.06089682]\n",
      "(X, Y, Z) =  [ 8.51026267 27.0409867   1.95285221]\n",
      "(X, Y, Z) =  [20.60430517 12.7954906   6.23611482]\n",
      "(X, Y, Z) =  [20.50887343 14.74389764  6.15312168]\n",
      "(X, Y, Z) =  [18.49175192 14.72168872  6.15680449]\n",
      "(X, Y, Z) =  [18.57587554 13.14864744  6.17661544]\n",
      "(X, Y, Z) =  [18.56357478 13.55085809  6.1678188 ]\n",
      "(X, Y, Z) =  [18.56410268 13.9591134   6.17858993]\n",
      "(X, Y, Z) =  [18.55422088 14.33712166  6.17346886]\n",
      "(X, Y, Z) =  [19.41306393 12.78113967  5.9038878 ]\n",
      "(X, Y, Z) =  [19.3898259  13.18433176  5.88175676]\n",
      "(X, Y, Z) =  [19.31664514 14.34151439  5.84240228]\n",
      "(X, Y, Z) =  [19.2866247  14.72552283  5.8117509 ]\n",
      "(X, Y, Z) =  [20.63251905 13.19716207  6.23415111]\n",
      "(X, Y, Z) =  [20.60373089 13.58928602  6.17836151]\n",
      "(X, Y, Z) =  [20.54765793 13.95240623  6.14886312]\n",
      "(X, Y, Z) =  [20.55360531 14.36932543  6.16967429]\n"
     ]
    }
   ],
   "source": [
    "points_ = pd.read_csv(\"points/points_1_2.csv\")\n",
    "add = pd.read_csv(\"points/points_1_2_add.csv\")\n",
    "points_12 = pd.concat([points_, add], ignore_index=True)\n",
    "s_ = Stereo(c1, c2, points_12)\n",
    "s_.obtain_objects_points_by_stereo()"
   ],
   "metadata": {
    "collapsed": false,
    "pycharm": {
     "name": "#%%\n"
    }
   }
  },
  {
   "cell_type": "code",
   "execution_count": 16,
   "outputs": [
    {
     "data": {
      "text/plain": "            X          Y         Z Object\n38  19.286625  14.725523  5.811751  block\n39  20.632519  13.197162  6.234151  block\n40  20.603731  13.589286  6.178362  block\n41  20.547658  13.952406  6.148863  block\n42  20.553605  14.369325  6.169674  block",
      "text/html": "<div>\n<style scoped>\n    .dataframe tbody tr th:only-of-type {\n        vertical-align: middle;\n    }\n\n    .dataframe tbody tr th {\n        vertical-align: top;\n    }\n\n    .dataframe thead th {\n        text-align: right;\n    }\n</style>\n<table border=\"1\" class=\"dataframe\">\n  <thead>\n    <tr style=\"text-align: right;\">\n      <th></th>\n      <th>X</th>\n      <th>Y</th>\n      <th>Z</th>\n      <th>Object</th>\n    </tr>\n  </thead>\n  <tbody>\n    <tr>\n      <td>38</td>\n      <td>19.286625</td>\n      <td>14.725523</td>\n      <td>5.811751</td>\n      <td>block</td>\n    </tr>\n    <tr>\n      <td>39</td>\n      <td>20.632519</td>\n      <td>13.197162</td>\n      <td>6.234151</td>\n      <td>block</td>\n    </tr>\n    <tr>\n      <td>40</td>\n      <td>20.603731</td>\n      <td>13.589286</td>\n      <td>6.178362</td>\n      <td>block</td>\n    </tr>\n    <tr>\n      <td>41</td>\n      <td>20.547658</td>\n      <td>13.952406</td>\n      <td>6.148863</td>\n      <td>block</td>\n    </tr>\n    <tr>\n      <td>42</td>\n      <td>20.553605</td>\n      <td>14.369325</td>\n      <td>6.169674</td>\n      <td>block</td>\n    </tr>\n  </tbody>\n</table>\n</div>"
     },
     "execution_count": 16,
     "metadata": {},
     "output_type": "execute_result"
    }
   ],
   "source": [
    "# 物体の情報を付加させる\n",
    "points_of_objects = s_.points_of_objects\n",
    "object_list = [\"carpenter\", \"cylinder\", \"block\", \"duck\", \"metal\"]\n",
    "object_ids = [0, 0, 0, 0, 0, 1, 1, 1, 1, 1, 1, 1, 1, 1, 1, 3, 3, 3, 2, 4,\n",
    "              4, 4, 4, 4, 4, 4, 4, 4, 2, 2, 2, 2, 2, 2, 2, 2, 2, 2, 2, 2, 2, 2, 2]\n",
    "points_of_objects[\"Object\"] = [object_list[o] for o in object_ids]\n",
    "points_of_objects.tail()"
   ],
   "metadata": {
    "collapsed": false,
    "pycharm": {
     "name": "#%%\n"
    }
   }
  },
  {
   "cell_type": "code",
   "execution_count": 17,
   "outputs": [],
   "source": [
    "color_list = [\"rgb(244,69,96)\", \"rgb(1,12,30)\", \"rgb(247,220,102)\", \"rgb(255,251,56)\", \"rgb(25,48,61)\"]\n",
    "\n",
    "data = []\n",
    "\n",
    "# オブジェクトごとに色を変える\n",
    "for object_, color_ in zip(object_list, color_list):\n",
    "    points_ = points_of_objects[points_of_objects[\"Object\"] == object_]\n",
    "\n",
    "\n",
    "    trace = go.Scatter3d(\n",
    "        x=points_[\"X\"],\n",
    "        y=points_[\"Y\"],\n",
    "        z=points_[\"Z\"],\n",
    "        mode=\"markers\",\n",
    "        marker=dict(\n",
    "            color=color_,\n",
    "            size=5,\n",
    "            opacity=0.8\n",
    "        ),\n",
    "        name=object_\n",
    "        )\n",
    "    data += [trace]\n",
    "\n",
    "\n",
    "layout=go.Layout(\n",
    "    margin=dict(\n",
    "        l=0,\n",
    "        r=0,\n",
    "        b=0,\n",
    "        t=0\n",
    "    ),\n",
    "    scene=dict(aspectmode=\"cube\"),\n",
    "    legend=dict(x=0.9, y=0.9)\n",
    ")"
   ],
   "metadata": {
    "collapsed": false,
    "pycharm": {
     "name": "#%%\n"
    }
   }
  },
  {
   "cell_type": "code",
   "execution_count": 18,
   "outputs": [
    {
     "data": {
      "application/vnd.plotly.v1+json": {
       "config": {
        "plotlyServerURL": "https://plot.ly"
       },
       "data": [
        {
         "marker": {
          "color": "rgb(244,69,96)",
          "opacity": 0.8,
          "size": 5
         },
         "mode": "markers",
         "name": "carpenter",
         "type": "scatter3d",
         "x": [
          25.468530182574117,
          24.743225140736218,
          21.96235289731521,
          19.918088822291082,
          16.42375930495632
         ],
         "y": [
          16.458916753485536,
          17.1746060213747,
          20.021673335371897,
          22.15987022310311,
          25.699605592066497
         ],
         "z": [
          0.2708842343130374,
          0.21459360923104356,
          0.32099857203813886,
          0.384597575906937,
          0.35387483898874783
         ]
        },
        {
         "marker": {
          "color": "rgb(1,12,30)",
          "opacity": 0.8,
          "size": 5
         },
         "mode": "markers",
         "name": "cylinder",
         "type": "scatter3d",
         "x": [
          5.257630037294798,
          10.595123375634593,
          9.372817059121308,
          8.152569310194501,
          4.45047282346634,
          11.595716836321506,
          10.649636678032557,
          11.654614777266554,
          9.527527282374054,
          9.398233153746107
         ],
         "y": [
          7.236556565767739,
          5.504048910352177,
          8.251849444961552,
          11.089604753719842,
          9.936238597550187,
          6.514582919439731,
          10.552057585279675,
          6.636725532278979,
          11.546043419661821,
          11.526631609579272
         ],
         "z": [
          9.16204877725368,
          9.274844660715221,
          9.1330719929241,
          9.134291770907234,
          9.156412003434623,
          2.8439244001039388,
          6.592754616826495,
          6.332304883218543,
          8.798316385532408,
          2.802478453219778
         ]
        },
        {
         "marker": {
          "color": "rgb(247,220,102)",
          "opacity": 0.8,
          "size": 5
         },
         "mode": "markers",
         "name": "block",
         "type": "scatter3d",
         "x": [
          18.577162642445415,
          20.60430517490169,
          20.508873431259982,
          18.491751918271582,
          18.575875539124034,
          18.563574779276625,
          18.56410268027309,
          18.554220883650654,
          19.413063931626656,
          19.38982589648442,
          19.316645139022842,
          19.286624704986686,
          20.632519053799495,
          20.603730886502966,
          20.54765793080793,
          20.553605307361508
         ],
         "y": [
          12.74336518633304,
          12.795490599524591,
          14.743897638233584,
          14.721688716683646,
          13.14864743527646,
          13.550858090878997,
          13.959113395192723,
          14.337121657265305,
          12.78113966817097,
          13.184331755577166,
          14.341514385991875,
          14.725522828676251,
          13.197162067605127,
          13.589286022061216,
          13.952406230799559,
          14.36932543386998
         ],
         "z": [
          6.161235684074514,
          6.236114817844979,
          6.153121683916281,
          6.156804486259395,
          6.176615437134522,
          6.167818802498,
          6.178589933009036,
          6.173468860955854,
          5.90388780249692,
          5.881756757264512,
          5.8424022841836045,
          5.811750901847138,
          6.234151107341555,
          6.178361508867919,
          6.148863122028922,
          6.169674289553114
         ]
        },
        {
         "marker": {
          "color": "rgb(255,251,56)",
          "opacity": 0.8,
          "size": 5
         },
         "mode": "markers",
         "name": "duck",
         "type": "scatter3d",
         "x": [
          13.09258375270891,
          15.309641170521052,
          13.306510683718336
         ],
         "y": [
          17.841861357282593,
          17.378326798162945,
          21.428611985404128
         ],
         "z": [
          6.145890946541317,
          1.9831360672466203,
          2.559985429926929
         ]
        },
        {
         "marker": {
          "color": "rgb(25,48,61)",
          "opacity": 0.8,
          "size": 5
         },
         "mode": "markers",
         "name": "metal",
         "type": "scatter3d",
         "x": [
          8.386109953585851,
          8.308852085583133,
          6.188271287774412,
          3.946975719374869,
          6.193030137415621,
          8.382900776820367,
          8.300783983964251,
          8.489006889023008,
          8.510262668701763
         ],
         "y": [
          27.033060981149262,
          26.997494609497892,
          24.84770509391521,
          27.055556361126747,
          29.205161477493505,
          27.028803573063307,
          27.070652592807875,
          27.002210030435233,
          27.040986704468036
         ],
         "z": [
          9.009764520950647,
          9.953603127063856,
          9.978157206464482,
          9.952086175646624,
          9.969454207527686,
          8.046926118360439,
          5.83417544496862,
          4.060896815769325,
          1.952852205466786
         ]
        }
       ],
       "layout": {
        "legend": {
         "x": 0.9,
         "y": 0.9
        },
        "margin": {
         "b": 0,
         "l": 0,
         "r": 0,
         "t": 0
        },
        "scene": {
         "aspectmode": "cube"
        },
        "template": {
         "data": {
          "bar": [
           {
            "error_x": {
             "color": "#2a3f5f"
            },
            "error_y": {
             "color": "#2a3f5f"
            },
            "marker": {
             "line": {
              "color": "#E5ECF6",
              "width": 0.5
             }
            },
            "type": "bar"
           }
          ],
          "barpolar": [
           {
            "marker": {
             "line": {
              "color": "#E5ECF6",
              "width": 0.5
             }
            },
            "type": "barpolar"
           }
          ],
          "carpet": [
           {
            "aaxis": {
             "endlinecolor": "#2a3f5f",
             "gridcolor": "white",
             "linecolor": "white",
             "minorgridcolor": "white",
             "startlinecolor": "#2a3f5f"
            },
            "baxis": {
             "endlinecolor": "#2a3f5f",
             "gridcolor": "white",
             "linecolor": "white",
             "minorgridcolor": "white",
             "startlinecolor": "#2a3f5f"
            },
            "type": "carpet"
           }
          ],
          "choropleth": [
           {
            "colorbar": {
             "outlinewidth": 0,
             "ticks": ""
            },
            "type": "choropleth"
           }
          ],
          "contour": [
           {
            "colorbar": {
             "outlinewidth": 0,
             "ticks": ""
            },
            "colorscale": [
             [
              0.0,
              "#0d0887"
             ],
             [
              0.1111111111111111,
              "#46039f"
             ],
             [
              0.2222222222222222,
              "#7201a8"
             ],
             [
              0.3333333333333333,
              "#9c179e"
             ],
             [
              0.4444444444444444,
              "#bd3786"
             ],
             [
              0.5555555555555556,
              "#d8576b"
             ],
             [
              0.6666666666666666,
              "#ed7953"
             ],
             [
              0.7777777777777778,
              "#fb9f3a"
             ],
             [
              0.8888888888888888,
              "#fdca26"
             ],
             [
              1.0,
              "#f0f921"
             ]
            ],
            "type": "contour"
           }
          ],
          "contourcarpet": [
           {
            "colorbar": {
             "outlinewidth": 0,
             "ticks": ""
            },
            "type": "contourcarpet"
           }
          ],
          "heatmap": [
           {
            "colorbar": {
             "outlinewidth": 0,
             "ticks": ""
            },
            "colorscale": [
             [
              0.0,
              "#0d0887"
             ],
             [
              0.1111111111111111,
              "#46039f"
             ],
             [
              0.2222222222222222,
              "#7201a8"
             ],
             [
              0.3333333333333333,
              "#9c179e"
             ],
             [
              0.4444444444444444,
              "#bd3786"
             ],
             [
              0.5555555555555556,
              "#d8576b"
             ],
             [
              0.6666666666666666,
              "#ed7953"
             ],
             [
              0.7777777777777778,
              "#fb9f3a"
             ],
             [
              0.8888888888888888,
              "#fdca26"
             ],
             [
              1.0,
              "#f0f921"
             ]
            ],
            "type": "heatmap"
           }
          ],
          "heatmapgl": [
           {
            "colorbar": {
             "outlinewidth": 0,
             "ticks": ""
            },
            "colorscale": [
             [
              0.0,
              "#0d0887"
             ],
             [
              0.1111111111111111,
              "#46039f"
             ],
             [
              0.2222222222222222,
              "#7201a8"
             ],
             [
              0.3333333333333333,
              "#9c179e"
             ],
             [
              0.4444444444444444,
              "#bd3786"
             ],
             [
              0.5555555555555556,
              "#d8576b"
             ],
             [
              0.6666666666666666,
              "#ed7953"
             ],
             [
              0.7777777777777778,
              "#fb9f3a"
             ],
             [
              0.8888888888888888,
              "#fdca26"
             ],
             [
              1.0,
              "#f0f921"
             ]
            ],
            "type": "heatmapgl"
           }
          ],
          "histogram": [
           {
            "marker": {
             "colorbar": {
              "outlinewidth": 0,
              "ticks": ""
             }
            },
            "type": "histogram"
           }
          ],
          "histogram2d": [
           {
            "colorbar": {
             "outlinewidth": 0,
             "ticks": ""
            },
            "colorscale": [
             [
              0.0,
              "#0d0887"
             ],
             [
              0.1111111111111111,
              "#46039f"
             ],
             [
              0.2222222222222222,
              "#7201a8"
             ],
             [
              0.3333333333333333,
              "#9c179e"
             ],
             [
              0.4444444444444444,
              "#bd3786"
             ],
             [
              0.5555555555555556,
              "#d8576b"
             ],
             [
              0.6666666666666666,
              "#ed7953"
             ],
             [
              0.7777777777777778,
              "#fb9f3a"
             ],
             [
              0.8888888888888888,
              "#fdca26"
             ],
             [
              1.0,
              "#f0f921"
             ]
            ],
            "type": "histogram2d"
           }
          ],
          "histogram2dcontour": [
           {
            "colorbar": {
             "outlinewidth": 0,
             "ticks": ""
            },
            "colorscale": [
             [
              0.0,
              "#0d0887"
             ],
             [
              0.1111111111111111,
              "#46039f"
             ],
             [
              0.2222222222222222,
              "#7201a8"
             ],
             [
              0.3333333333333333,
              "#9c179e"
             ],
             [
              0.4444444444444444,
              "#bd3786"
             ],
             [
              0.5555555555555556,
              "#d8576b"
             ],
             [
              0.6666666666666666,
              "#ed7953"
             ],
             [
              0.7777777777777778,
              "#fb9f3a"
             ],
             [
              0.8888888888888888,
              "#fdca26"
             ],
             [
              1.0,
              "#f0f921"
             ]
            ],
            "type": "histogram2dcontour"
           }
          ],
          "mesh3d": [
           {
            "colorbar": {
             "outlinewidth": 0,
             "ticks": ""
            },
            "type": "mesh3d"
           }
          ],
          "parcoords": [
           {
            "line": {
             "colorbar": {
              "outlinewidth": 0,
              "ticks": ""
             }
            },
            "type": "parcoords"
           }
          ],
          "pie": [
           {
            "automargin": true,
            "type": "pie"
           }
          ],
          "scatter": [
           {
            "marker": {
             "colorbar": {
              "outlinewidth": 0,
              "ticks": ""
             }
            },
            "type": "scatter"
           }
          ],
          "scatter3d": [
           {
            "line": {
             "colorbar": {
              "outlinewidth": 0,
              "ticks": ""
             }
            },
            "marker": {
             "colorbar": {
              "outlinewidth": 0,
              "ticks": ""
             }
            },
            "type": "scatter3d"
           }
          ],
          "scattercarpet": [
           {
            "marker": {
             "colorbar": {
              "outlinewidth": 0,
              "ticks": ""
             }
            },
            "type": "scattercarpet"
           }
          ],
          "scattergeo": [
           {
            "marker": {
             "colorbar": {
              "outlinewidth": 0,
              "ticks": ""
             }
            },
            "type": "scattergeo"
           }
          ],
          "scattergl": [
           {
            "marker": {
             "colorbar": {
              "outlinewidth": 0,
              "ticks": ""
             }
            },
            "type": "scattergl"
           }
          ],
          "scattermapbox": [
           {
            "marker": {
             "colorbar": {
              "outlinewidth": 0,
              "ticks": ""
             }
            },
            "type": "scattermapbox"
           }
          ],
          "scatterpolar": [
           {
            "marker": {
             "colorbar": {
              "outlinewidth": 0,
              "ticks": ""
             }
            },
            "type": "scatterpolar"
           }
          ],
          "scatterpolargl": [
           {
            "marker": {
             "colorbar": {
              "outlinewidth": 0,
              "ticks": ""
             }
            },
            "type": "scatterpolargl"
           }
          ],
          "scatterternary": [
           {
            "marker": {
             "colorbar": {
              "outlinewidth": 0,
              "ticks": ""
             }
            },
            "type": "scatterternary"
           }
          ],
          "surface": [
           {
            "colorbar": {
             "outlinewidth": 0,
             "ticks": ""
            },
            "colorscale": [
             [
              0.0,
              "#0d0887"
             ],
             [
              0.1111111111111111,
              "#46039f"
             ],
             [
              0.2222222222222222,
              "#7201a8"
             ],
             [
              0.3333333333333333,
              "#9c179e"
             ],
             [
              0.4444444444444444,
              "#bd3786"
             ],
             [
              0.5555555555555556,
              "#d8576b"
             ],
             [
              0.6666666666666666,
              "#ed7953"
             ],
             [
              0.7777777777777778,
              "#fb9f3a"
             ],
             [
              0.8888888888888888,
              "#fdca26"
             ],
             [
              1.0,
              "#f0f921"
             ]
            ],
            "type": "surface"
           }
          ],
          "table": [
           {
            "cells": {
             "fill": {
              "color": "#EBF0F8"
             },
             "line": {
              "color": "white"
             }
            },
            "header": {
             "fill": {
              "color": "#C8D4E3"
             },
             "line": {
              "color": "white"
             }
            },
            "type": "table"
           }
          ]
         },
         "layout": {
          "annotationdefaults": {
           "arrowcolor": "#2a3f5f",
           "arrowhead": 0,
           "arrowwidth": 1
          },
          "coloraxis": {
           "colorbar": {
            "outlinewidth": 0,
            "ticks": ""
           }
          },
          "colorscale": {
           "diverging": [
            [
             0,
             "#8e0152"
            ],
            [
             0.1,
             "#c51b7d"
            ],
            [
             0.2,
             "#de77ae"
            ],
            [
             0.3,
             "#f1b6da"
            ],
            [
             0.4,
             "#fde0ef"
            ],
            [
             0.5,
             "#f7f7f7"
            ],
            [
             0.6,
             "#e6f5d0"
            ],
            [
             0.7,
             "#b8e186"
            ],
            [
             0.8,
             "#7fbc41"
            ],
            [
             0.9,
             "#4d9221"
            ],
            [
             1,
             "#276419"
            ]
           ],
           "sequential": [
            [
             0.0,
             "#0d0887"
            ],
            [
             0.1111111111111111,
             "#46039f"
            ],
            [
             0.2222222222222222,
             "#7201a8"
            ],
            [
             0.3333333333333333,
             "#9c179e"
            ],
            [
             0.4444444444444444,
             "#bd3786"
            ],
            [
             0.5555555555555556,
             "#d8576b"
            ],
            [
             0.6666666666666666,
             "#ed7953"
            ],
            [
             0.7777777777777778,
             "#fb9f3a"
            ],
            [
             0.8888888888888888,
             "#fdca26"
            ],
            [
             1.0,
             "#f0f921"
            ]
           ],
           "sequentialminus": [
            [
             0.0,
             "#0d0887"
            ],
            [
             0.1111111111111111,
             "#46039f"
            ],
            [
             0.2222222222222222,
             "#7201a8"
            ],
            [
             0.3333333333333333,
             "#9c179e"
            ],
            [
             0.4444444444444444,
             "#bd3786"
            ],
            [
             0.5555555555555556,
             "#d8576b"
            ],
            [
             0.6666666666666666,
             "#ed7953"
            ],
            [
             0.7777777777777778,
             "#fb9f3a"
            ],
            [
             0.8888888888888888,
             "#fdca26"
            ],
            [
             1.0,
             "#f0f921"
            ]
           ]
          },
          "colorway": [
           "#636efa",
           "#EF553B",
           "#00cc96",
           "#ab63fa",
           "#FFA15A",
           "#19d3f3",
           "#FF6692",
           "#B6E880",
           "#FF97FF",
           "#FECB52"
          ],
          "font": {
           "color": "#2a3f5f"
          },
          "geo": {
           "bgcolor": "white",
           "lakecolor": "white",
           "landcolor": "#E5ECF6",
           "showlakes": true,
           "showland": true,
           "subunitcolor": "white"
          },
          "hoverlabel": {
           "align": "left"
          },
          "hovermode": "closest",
          "mapbox": {
           "style": "light"
          },
          "paper_bgcolor": "white",
          "plot_bgcolor": "#E5ECF6",
          "polar": {
           "angularaxis": {
            "gridcolor": "white",
            "linecolor": "white",
            "ticks": ""
           },
           "bgcolor": "#E5ECF6",
           "radialaxis": {
            "gridcolor": "white",
            "linecolor": "white",
            "ticks": ""
           }
          },
          "scene": {
           "xaxis": {
            "backgroundcolor": "#E5ECF6",
            "gridcolor": "white",
            "gridwidth": 2,
            "linecolor": "white",
            "showbackground": true,
            "ticks": "",
            "zerolinecolor": "white"
           },
           "yaxis": {
            "backgroundcolor": "#E5ECF6",
            "gridcolor": "white",
            "gridwidth": 2,
            "linecolor": "white",
            "showbackground": true,
            "ticks": "",
            "zerolinecolor": "white"
           },
           "zaxis": {
            "backgroundcolor": "#E5ECF6",
            "gridcolor": "white",
            "gridwidth": 2,
            "linecolor": "white",
            "showbackground": true,
            "ticks": "",
            "zerolinecolor": "white"
           }
          },
          "shapedefaults": {
           "line": {
            "color": "#2a3f5f"
           }
          },
          "ternary": {
           "aaxis": {
            "gridcolor": "white",
            "linecolor": "white",
            "ticks": ""
           },
           "baxis": {
            "gridcolor": "white",
            "linecolor": "white",
            "ticks": ""
           },
           "bgcolor": "#E5ECF6",
           "caxis": {
            "gridcolor": "white",
            "linecolor": "white",
            "ticks": ""
           }
          },
          "title": {
           "x": 0.05
          },
          "xaxis": {
           "automargin": true,
           "gridcolor": "white",
           "linecolor": "white",
           "ticks": "",
           "title": {
            "standoff": 15
           },
           "zerolinecolor": "white",
           "zerolinewidth": 2
          },
          "yaxis": {
           "automargin": true,
           "gridcolor": "white",
           "linecolor": "white",
           "ticks": "",
           "title": {
            "standoff": 15
           },
           "zerolinecolor": "white",
           "zerolinewidth": 2
          }
         }
        }
       }
      },
      "text/html": "<div>\n        \n        \n            <div id=\"d7579f2f-7fdd-4e53-a159-bf0ec77e605c\" class=\"plotly-graph-div\" style=\"height:525px; width:100%;\"></div>\n            <script type=\"text/javascript\">\n                require([\"plotly\"], function(Plotly) {\n                    window.PLOTLYENV=window.PLOTLYENV || {};\n                    \n                if (document.getElementById(\"d7579f2f-7fdd-4e53-a159-bf0ec77e605c\")) {\n                    Plotly.newPlot(\n                        'd7579f2f-7fdd-4e53-a159-bf0ec77e605c',\n                        [{\"marker\": {\"color\": \"rgb(244,69,96)\", \"opacity\": 0.8, \"size\": 5}, \"mode\": \"markers\", \"name\": \"carpenter\", \"type\": \"scatter3d\", \"x\": [25.468530182574117, 24.743225140736218, 21.96235289731521, 19.918088822291082, 16.42375930495632], \"y\": [16.458916753485536, 17.1746060213747, 20.021673335371897, 22.15987022310311, 25.699605592066497], \"z\": [0.2708842343130374, 0.21459360923104356, 0.32099857203813886, 0.384597575906937, 0.35387483898874783]}, {\"marker\": {\"color\": \"rgb(1,12,30)\", \"opacity\": 0.8, \"size\": 5}, \"mode\": \"markers\", \"name\": \"cylinder\", \"type\": \"scatter3d\", \"x\": [5.257630037294798, 10.595123375634593, 9.372817059121308, 8.152569310194501, 4.45047282346634, 11.595716836321506, 10.649636678032557, 11.654614777266554, 9.527527282374054, 9.398233153746107], \"y\": [7.236556565767739, 5.504048910352177, 8.251849444961552, 11.089604753719842, 9.936238597550187, 6.514582919439731, 10.552057585279675, 6.636725532278979, 11.546043419661821, 11.526631609579272], \"z\": [9.16204877725368, 9.274844660715221, 9.1330719929241, 9.134291770907234, 9.156412003434623, 2.8439244001039388, 6.592754616826495, 6.332304883218543, 8.798316385532408, 2.802478453219778]}, {\"marker\": {\"color\": \"rgb(247,220,102)\", \"opacity\": 0.8, \"size\": 5}, \"mode\": \"markers\", \"name\": \"block\", \"type\": \"scatter3d\", \"x\": [18.577162642445415, 20.60430517490169, 20.508873431259982, 18.491751918271582, 18.575875539124034, 18.563574779276625, 18.56410268027309, 18.554220883650654, 19.413063931626656, 19.38982589648442, 19.316645139022842, 19.286624704986686, 20.632519053799495, 20.603730886502966, 20.54765793080793, 20.553605307361508], \"y\": [12.74336518633304, 12.795490599524591, 14.743897638233584, 14.721688716683646, 13.14864743527646, 13.550858090878997, 13.959113395192723, 14.337121657265305, 12.78113966817097, 13.184331755577166, 14.341514385991875, 14.725522828676251, 13.197162067605127, 13.589286022061216, 13.952406230799559, 14.36932543386998], \"z\": [6.161235684074514, 6.236114817844979, 6.153121683916281, 6.156804486259395, 6.176615437134522, 6.167818802498, 6.178589933009036, 6.173468860955854, 5.90388780249692, 5.881756757264512, 5.8424022841836045, 5.811750901847138, 6.234151107341555, 6.178361508867919, 6.148863122028922, 6.169674289553114]}, {\"marker\": {\"color\": \"rgb(255,251,56)\", \"opacity\": 0.8, \"size\": 5}, \"mode\": \"markers\", \"name\": \"duck\", \"type\": \"scatter3d\", \"x\": [13.09258375270891, 15.309641170521052, 13.306510683718336], \"y\": [17.841861357282593, 17.378326798162945, 21.428611985404128], \"z\": [6.145890946541317, 1.9831360672466203, 2.559985429926929]}, {\"marker\": {\"color\": \"rgb(25,48,61)\", \"opacity\": 0.8, \"size\": 5}, \"mode\": \"markers\", \"name\": \"metal\", \"type\": \"scatter3d\", \"x\": [8.386109953585851, 8.308852085583133, 6.188271287774412, 3.946975719374869, 6.193030137415621, 8.382900776820367, 8.300783983964251, 8.489006889023008, 8.510262668701763], \"y\": [27.033060981149262, 26.997494609497892, 24.84770509391521, 27.055556361126747, 29.205161477493505, 27.028803573063307, 27.070652592807875, 27.002210030435233, 27.040986704468036], \"z\": [9.009764520950647, 9.953603127063856, 9.978157206464482, 9.952086175646624, 9.969454207527686, 8.046926118360439, 5.83417544496862, 4.060896815769325, 1.952852205466786]}],\n                        {\"legend\": {\"x\": 0.9, \"y\": 0.9}, \"margin\": {\"b\": 0, \"l\": 0, \"r\": 0, \"t\": 0}, \"scene\": {\"aspectmode\": \"cube\"}, \"template\": {\"data\": {\"bar\": [{\"error_x\": {\"color\": \"#2a3f5f\"}, \"error_y\": {\"color\": \"#2a3f5f\"}, \"marker\": {\"line\": {\"color\": \"#E5ECF6\", \"width\": 0.5}}, \"type\": \"bar\"}], \"barpolar\": [{\"marker\": {\"line\": {\"color\": \"#E5ECF6\", \"width\": 0.5}}, \"type\": \"barpolar\"}], \"carpet\": [{\"aaxis\": {\"endlinecolor\": \"#2a3f5f\", \"gridcolor\": \"white\", \"linecolor\": \"white\", \"minorgridcolor\": \"white\", \"startlinecolor\": \"#2a3f5f\"}, \"baxis\": {\"endlinecolor\": \"#2a3f5f\", \"gridcolor\": \"white\", \"linecolor\": \"white\", \"minorgridcolor\": \"white\", \"startlinecolor\": \"#2a3f5f\"}, \"type\": \"carpet\"}], \"choropleth\": [{\"colorbar\": {\"outlinewidth\": 0, \"ticks\": \"\"}, \"type\": \"choropleth\"}], \"contour\": [{\"colorbar\": {\"outlinewidth\": 0, \"ticks\": \"\"}, \"colorscale\": [[0.0, \"#0d0887\"], [0.1111111111111111, \"#46039f\"], [0.2222222222222222, \"#7201a8\"], [0.3333333333333333, \"#9c179e\"], [0.4444444444444444, \"#bd3786\"], [0.5555555555555556, \"#d8576b\"], [0.6666666666666666, \"#ed7953\"], [0.7777777777777778, \"#fb9f3a\"], [0.8888888888888888, \"#fdca26\"], [1.0, \"#f0f921\"]], \"type\": \"contour\"}], \"contourcarpet\": [{\"colorbar\": {\"outlinewidth\": 0, \"ticks\": \"\"}, \"type\": \"contourcarpet\"}], \"heatmap\": [{\"colorbar\": {\"outlinewidth\": 0, \"ticks\": \"\"}, \"colorscale\": [[0.0, \"#0d0887\"], [0.1111111111111111, \"#46039f\"], [0.2222222222222222, \"#7201a8\"], [0.3333333333333333, \"#9c179e\"], [0.4444444444444444, \"#bd3786\"], [0.5555555555555556, \"#d8576b\"], [0.6666666666666666, \"#ed7953\"], [0.7777777777777778, \"#fb9f3a\"], [0.8888888888888888, \"#fdca26\"], [1.0, \"#f0f921\"]], \"type\": \"heatmap\"}], \"heatmapgl\": [{\"colorbar\": {\"outlinewidth\": 0, \"ticks\": \"\"}, \"colorscale\": [[0.0, \"#0d0887\"], [0.1111111111111111, \"#46039f\"], [0.2222222222222222, \"#7201a8\"], [0.3333333333333333, \"#9c179e\"], [0.4444444444444444, \"#bd3786\"], [0.5555555555555556, \"#d8576b\"], [0.6666666666666666, \"#ed7953\"], [0.7777777777777778, \"#fb9f3a\"], [0.8888888888888888, \"#fdca26\"], [1.0, \"#f0f921\"]], \"type\": \"heatmapgl\"}], \"histogram\": [{\"marker\": {\"colorbar\": {\"outlinewidth\": 0, \"ticks\": \"\"}}, \"type\": \"histogram\"}], \"histogram2d\": [{\"colorbar\": {\"outlinewidth\": 0, \"ticks\": \"\"}, \"colorscale\": [[0.0, \"#0d0887\"], [0.1111111111111111, \"#46039f\"], [0.2222222222222222, \"#7201a8\"], [0.3333333333333333, \"#9c179e\"], [0.4444444444444444, \"#bd3786\"], [0.5555555555555556, \"#d8576b\"], [0.6666666666666666, \"#ed7953\"], [0.7777777777777778, \"#fb9f3a\"], [0.8888888888888888, \"#fdca26\"], [1.0, \"#f0f921\"]], \"type\": \"histogram2d\"}], \"histogram2dcontour\": [{\"colorbar\": {\"outlinewidth\": 0, \"ticks\": \"\"}, \"colorscale\": [[0.0, \"#0d0887\"], [0.1111111111111111, \"#46039f\"], [0.2222222222222222, \"#7201a8\"], [0.3333333333333333, \"#9c179e\"], [0.4444444444444444, \"#bd3786\"], [0.5555555555555556, \"#d8576b\"], [0.6666666666666666, \"#ed7953\"], [0.7777777777777778, \"#fb9f3a\"], [0.8888888888888888, \"#fdca26\"], [1.0, \"#f0f921\"]], \"type\": \"histogram2dcontour\"}], \"mesh3d\": [{\"colorbar\": {\"outlinewidth\": 0, \"ticks\": \"\"}, \"type\": \"mesh3d\"}], \"parcoords\": [{\"line\": {\"colorbar\": {\"outlinewidth\": 0, \"ticks\": \"\"}}, \"type\": \"parcoords\"}], \"pie\": [{\"automargin\": true, \"type\": \"pie\"}], \"scatter\": [{\"marker\": {\"colorbar\": {\"outlinewidth\": 0, \"ticks\": \"\"}}, \"type\": \"scatter\"}], \"scatter3d\": [{\"line\": {\"colorbar\": {\"outlinewidth\": 0, \"ticks\": \"\"}}, \"marker\": {\"colorbar\": {\"outlinewidth\": 0, \"ticks\": \"\"}}, \"type\": \"scatter3d\"}], \"scattercarpet\": [{\"marker\": {\"colorbar\": {\"outlinewidth\": 0, \"ticks\": \"\"}}, \"type\": \"scattercarpet\"}], \"scattergeo\": [{\"marker\": {\"colorbar\": {\"outlinewidth\": 0, \"ticks\": \"\"}}, \"type\": \"scattergeo\"}], \"scattergl\": [{\"marker\": {\"colorbar\": {\"outlinewidth\": 0, \"ticks\": \"\"}}, \"type\": \"scattergl\"}], \"scattermapbox\": [{\"marker\": {\"colorbar\": {\"outlinewidth\": 0, \"ticks\": \"\"}}, \"type\": \"scattermapbox\"}], \"scatterpolar\": [{\"marker\": {\"colorbar\": {\"outlinewidth\": 0, \"ticks\": \"\"}}, \"type\": \"scatterpolar\"}], \"scatterpolargl\": [{\"marker\": {\"colorbar\": {\"outlinewidth\": 0, \"ticks\": \"\"}}, \"type\": \"scatterpolargl\"}], \"scatterternary\": [{\"marker\": {\"colorbar\": {\"outlinewidth\": 0, \"ticks\": \"\"}}, \"type\": \"scatterternary\"}], \"surface\": [{\"colorbar\": {\"outlinewidth\": 0, \"ticks\": \"\"}, \"colorscale\": [[0.0, \"#0d0887\"], [0.1111111111111111, \"#46039f\"], [0.2222222222222222, \"#7201a8\"], [0.3333333333333333, \"#9c179e\"], [0.4444444444444444, \"#bd3786\"], [0.5555555555555556, \"#d8576b\"], [0.6666666666666666, \"#ed7953\"], [0.7777777777777778, \"#fb9f3a\"], [0.8888888888888888, \"#fdca26\"], [1.0, \"#f0f921\"]], \"type\": \"surface\"}], \"table\": [{\"cells\": {\"fill\": {\"color\": \"#EBF0F8\"}, \"line\": {\"color\": \"white\"}}, \"header\": {\"fill\": {\"color\": \"#C8D4E3\"}, \"line\": {\"color\": \"white\"}}, \"type\": \"table\"}]}, \"layout\": {\"annotationdefaults\": {\"arrowcolor\": \"#2a3f5f\", \"arrowhead\": 0, \"arrowwidth\": 1}, \"coloraxis\": {\"colorbar\": {\"outlinewidth\": 0, \"ticks\": \"\"}}, \"colorscale\": {\"diverging\": [[0, \"#8e0152\"], [0.1, \"#c51b7d\"], [0.2, \"#de77ae\"], [0.3, \"#f1b6da\"], [0.4, \"#fde0ef\"], [0.5, \"#f7f7f7\"], [0.6, \"#e6f5d0\"], [0.7, \"#b8e186\"], [0.8, \"#7fbc41\"], [0.9, \"#4d9221\"], [1, \"#276419\"]], \"sequential\": [[0.0, \"#0d0887\"], [0.1111111111111111, \"#46039f\"], [0.2222222222222222, \"#7201a8\"], [0.3333333333333333, \"#9c179e\"], [0.4444444444444444, \"#bd3786\"], [0.5555555555555556, \"#d8576b\"], [0.6666666666666666, \"#ed7953\"], [0.7777777777777778, \"#fb9f3a\"], [0.8888888888888888, \"#fdca26\"], [1.0, \"#f0f921\"]], \"sequentialminus\": [[0.0, \"#0d0887\"], [0.1111111111111111, \"#46039f\"], [0.2222222222222222, \"#7201a8\"], [0.3333333333333333, \"#9c179e\"], [0.4444444444444444, \"#bd3786\"], [0.5555555555555556, \"#d8576b\"], [0.6666666666666666, \"#ed7953\"], [0.7777777777777778, \"#fb9f3a\"], [0.8888888888888888, \"#fdca26\"], [1.0, \"#f0f921\"]]}, \"colorway\": [\"#636efa\", \"#EF553B\", \"#00cc96\", \"#ab63fa\", \"#FFA15A\", \"#19d3f3\", \"#FF6692\", \"#B6E880\", \"#FF97FF\", \"#FECB52\"], \"font\": {\"color\": \"#2a3f5f\"}, \"geo\": {\"bgcolor\": \"white\", \"lakecolor\": \"white\", \"landcolor\": \"#E5ECF6\", \"showlakes\": true, \"showland\": true, \"subunitcolor\": \"white\"}, \"hoverlabel\": {\"align\": \"left\"}, \"hovermode\": \"closest\", \"mapbox\": {\"style\": \"light\"}, \"paper_bgcolor\": \"white\", \"plot_bgcolor\": \"#E5ECF6\", \"polar\": {\"angularaxis\": {\"gridcolor\": \"white\", \"linecolor\": \"white\", \"ticks\": \"\"}, \"bgcolor\": \"#E5ECF6\", \"radialaxis\": {\"gridcolor\": \"white\", \"linecolor\": \"white\", \"ticks\": \"\"}}, \"scene\": {\"xaxis\": {\"backgroundcolor\": \"#E5ECF6\", \"gridcolor\": \"white\", \"gridwidth\": 2, \"linecolor\": \"white\", \"showbackground\": true, \"ticks\": \"\", \"zerolinecolor\": \"white\"}, \"yaxis\": {\"backgroundcolor\": \"#E5ECF6\", \"gridcolor\": \"white\", \"gridwidth\": 2, \"linecolor\": \"white\", \"showbackground\": true, \"ticks\": \"\", \"zerolinecolor\": \"white\"}, \"zaxis\": {\"backgroundcolor\": \"#E5ECF6\", \"gridcolor\": \"white\", \"gridwidth\": 2, \"linecolor\": \"white\", \"showbackground\": true, \"ticks\": \"\", \"zerolinecolor\": \"white\"}}, \"shapedefaults\": {\"line\": {\"color\": \"#2a3f5f\"}}, \"ternary\": {\"aaxis\": {\"gridcolor\": \"white\", \"linecolor\": \"white\", \"ticks\": \"\"}, \"baxis\": {\"gridcolor\": \"white\", \"linecolor\": \"white\", \"ticks\": \"\"}, \"bgcolor\": \"#E5ECF6\", \"caxis\": {\"gridcolor\": \"white\", \"linecolor\": \"white\", \"ticks\": \"\"}}, \"title\": {\"x\": 0.05}, \"xaxis\": {\"automargin\": true, \"gridcolor\": \"white\", \"linecolor\": \"white\", \"ticks\": \"\", \"title\": {\"standoff\": 15}, \"zerolinecolor\": \"white\", \"zerolinewidth\": 2}, \"yaxis\": {\"automargin\": true, \"gridcolor\": \"white\", \"linecolor\": \"white\", \"ticks\": \"\", \"title\": {\"standoff\": 15}, \"zerolinecolor\": \"white\", \"zerolinewidth\": 2}}}},\n                        {\"responsive\": true}\n                    ).then(function(){\n                            \nvar gd = document.getElementById('d7579f2f-7fdd-4e53-a159-bf0ec77e605c');\nvar x = new MutationObserver(function (mutations, observer) {{\n        var display = window.getComputedStyle(gd).display;\n        if (!display || display === 'none') {{\n            console.log([gd, 'removed!']);\n            Plotly.purge(gd);\n            observer.disconnect();\n        }}\n}});\n\n// Listen for the removal of the full notebook cells\nvar notebookContainer = gd.closest('#notebook-container');\nif (notebookContainer) {{\n    x.observe(notebookContainer, {childList: true});\n}}\n\n// Listen for the clearing of the current output cell\nvar outputEl = gd.closest('.output');\nif (outputEl) {{\n    x.observe(outputEl, {childList: true});\n}}\n\n                        })\n                };\n                });\n            </script>\n        </div>"
     },
     "metadata": {},
     "output_type": "display_data"
    }
   ],
   "source": [
    "fig = go.Figure(data=data, layout=layout)\n",
    "plotly.offline.plot(fig, filename=\"plot_3d.html\")\n",
    "fig.show()"
   ],
   "metadata": {
    "collapsed": false,
    "pycharm": {
     "name": "#%%\n"
    }
   }
  },
  {
   "cell_type": "code",
   "execution_count": null,
   "outputs": [],
   "source": [],
   "metadata": {
    "collapsed": false,
    "pycharm": {
     "name": "#%%\n"
    }
   }
  }
 ],
 "metadata": {
  "kernelspec": {
   "name": "pycharm-721c642e",
   "language": "python",
   "display_name": "PyCharm (vision)"
  },
  "language_info": {
   "codemirror_mode": {
    "name": "ipython",
    "version": 2
   },
   "file_extension": ".py",
   "mimetype": "text/x-python",
   "name": "python",
   "nbconvert_exporter": "python",
   "pygments_lexer": "ipython2",
   "version": "2.7.6"
  }
 },
 "nbformat": 4,
 "nbformat_minor": 0
}